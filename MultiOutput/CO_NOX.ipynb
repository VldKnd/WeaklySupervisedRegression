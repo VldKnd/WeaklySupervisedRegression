{
 "cells": [
  {
   "cell_type": "code",
   "execution_count": 105,
   "metadata": {},
   "outputs": [],
   "source": [
    "import math\n",
    "import numpy as np\n",
    "import pandas as pd\n",
    "from tqdm import tqdm\n",
    "import matplotlib.pyplot as plt\n",
    "\n",
    "from src.data import *\n",
    "from src.utils import *\n",
    "from src.main import *\n",
    "from sklearn.preprocessing import StandardScaler\n",
    "from sklearn.model_selection import train_test_split"
   ]
  },
  {
   "cell_type": "code",
   "execution_count": 106,
   "metadata": {},
   "outputs": [],
   "source": [
    "path = \"./data/pp_gas_emission/\"\n",
    "\n",
    "data_2011 = pd.read_csv(path+\"gt_2011.csv\")\n",
    "data_2012 = pd.read_csv(path+\"gt_2012.csv\")\n",
    "data_2013 = pd.read_csv(path+\"gt_2013.csv\")\n",
    "data_2014 = pd.read_csv(path+\"gt_2014.csv\")\n",
    "data_2015 = pd.read_csv(path+\"gt_2015.csv\")\n",
    "\n",
    "X_data_2011 = data_2011.drop([\"CO\", \"NOX\"], axis=1)\n",
    "y_data_2011 = data_2011[[\"CO\", \"NOX\"]]\n",
    "\n",
    "X_data_2012 = data_2012.drop([\"CO\", \"NOX\"], axis=1)\n",
    "y_data_2012 = data_2012[[\"CO\", \"NOX\"]]\n",
    "\n",
    "X_data_2013 = data_2013.drop([\"CO\", \"NOX\"], axis=1)\n",
    "y_data_2013 = data_2013[[\"CO\", \"NOX\"]]\n",
    "\n",
    "X_data_2014 = data_2014.drop([\"CO\", \"NOX\"], axis=1)\n",
    "y_data_2014 = data_2014[[\"CO\", \"NOX\"]]\n",
    "\n",
    "X_data_2015 = data_2015.drop([\"CO\", \"NOX\"], axis=1)\n",
    "y_data_2015 = data_2015[[\"CO\", \"NOX\"]]\n",
    "\n",
    "X_data_train = np.concatenate([\n",
    "    X_data_2011.to_numpy(),\n",
    "    X_data_2012.to_numpy(),\n",
    "    X_data_2013.to_numpy(),\n",
    "    X_data_2014.to_numpy(),\n",
    "], axis=0)\n",
    "\n",
    "y_train = np.concatenate([\n",
    "    y_data_2011.to_numpy(),\n",
    "    y_data_2012.to_numpy(),\n",
    "    y_data_2013.to_numpy(),\n",
    "    y_data_2014.to_numpy(),\n",
    "], axis=0)\n",
    "\n",
    "X_data_weak = X_data_2015.to_numpy()\n",
    "y_weak = y_data_2015.to_numpy()\n",
    "\n",
    "X_all = np.concatenate([\n",
    "            X_data_2011.to_numpy(),\n",
    "            X_data_2012.to_numpy(),\n",
    "            X_data_2013.to_numpy(),\n",
    "            X_data_2014.to_numpy(),\n",
    "            X_data_2015.to_numpy(),\n",
    "        ], axis=0)\n",
    "\n",
    "y_all = np.concatenate([\n",
    "            y_data_2011.to_numpy(),\n",
    "            y_data_2012.to_numpy(),\n",
    "            y_data_2013.to_numpy(),\n",
    "            y_data_2014.to_numpy(),\n",
    "            y_data_2015.to_numpy(),\n",
    "        ], axis=0)\n",
    "\n",
    "cfg = {\n",
    "    \"beta\":0.01,\n",
    "    \"gamma\":0.01,\n",
    "    \"n_clusters\":200,\n",
    "    \"n_models\":10,\n",
    "    \"normalize_W\":True,\n",
    "    \"verbose\":True,\n",
    "}"
   ]
  },
  {
   "cell_type": "markdown",
   "metadata": {},
   "source": [
    "### Small"
   ]
  },
  {
   "cell_type": "code",
   "execution_count": 153,
   "metadata": {},
   "outputs": [],
   "source": [
    "size = 1000\n",
    "X_small_train = X_data_2011.to_numpy()\n",
    "y_small_train = y_data_2011.to_numpy()\n",
    "\n",
    "X_small_weak = X_data_2012.to_numpy()\n",
    "y_small_weak = y_data_2012.to_numpy()\n",
    "\n",
    "X_small_all = np.concatenate([\n",
    "    X_small_train,\n",
    "    X_small_weak\n",
    "], axis=0)\n",
    "y_small_all = np.concatenate([\n",
    "    y_small_train,\n",
    "    y_small_weak\n",
    "], axis=0)"
   ]
  },
  {
   "cell_type": "code",
   "execution_count": 154,
   "metadata": {},
   "outputs": [],
   "source": [
    "W_small_all = get_W_gaussian(X_small_all, normalize_W=cfg[\"normalize_W\"])"
   ]
  },
  {
   "cell_type": "code",
   "execution_count": 155,
   "metadata": {},
   "outputs": [],
   "source": [
    "neigh_50 = W_small_all.argsort()[:, -50:][:, ::-1]"
   ]
  },
  {
   "cell_type": "code",
   "execution_count": 156,
   "metadata": {},
   "outputs": [
    {
     "name": "stderr",
     "output_type": "stream",
     "text": [
      "100% 15039/15039 [00:01<00:00, 7864.49it/s]\n"
     ]
    }
   ],
   "source": [
    "L = []\n",
    "for i in (pbar := tqdm(range(neigh_50.shape[0]))):\n",
    "    neigh_20 = np.argpartition((y_all[neigh_50[i]]**2).sum(axis=1), 20)[:20]\n",
    "    cov = np.cov(y_all[neigh_50[i]][neigh_20], rowvar=False)\n",
    "    try:\n",
    "        L_i = np.linalg.cholesky(cov)\n",
    "        L_idx = np.tril_indices_from(L_i)\n",
    "        L.append(L_i[L_idx])\n",
    "    except LinAlgError:\n",
    "        print(\"Cholesky Failed\")\n",
    "        break"
   ]
  },
  {
   "cell_type": "code",
   "execution_count": 157,
   "metadata": {},
   "outputs": [],
   "source": [
    "L_small_all = np.stack(L)\n",
    "A_small_all = y_small_all"
   ]
  },
  {
   "cell_type": "code",
   "execution_count": 162,
   "metadata": {},
   "outputs": [],
   "source": [
    "L_small_train = L_small_all[:X_small_weak.shape[0]]\n",
    "A_small_train = A_small_all[:X_small_weak.shape[0]]\n",
    "L_small_weak = L_small_all[X_small_weak.shape[0]:]\n",
    "A_small_weak = A_small_all[X_small_weak.shape[0]:]"
   ]
  },
  {
   "cell_type": "code",
   "execution_count": 163,
   "metadata": {},
   "outputs": [],
   "source": [
    "X_small_full = np.concatenate([X_small_train, X_small_weak])\n",
    "Y_small_full = np.concatenate([y_small_train, np.zeros_like(y_small_weak)])\n",
    "L_small_full = np.concatenate([L_small_train, np.zeros_like(L_small_weak)])\n",
    "B_small_full = np.diag(np.concatenate([np.ones(X_small_train.shape[0])*cfg[\"beta\"] + 1, np.ones(X_small_weak.shape[0])*cfg[\"beta\"]]))"
   ]
  },
  {
   "cell_type": "code",
   "execution_count": null,
   "metadata": {},
   "outputs": [
    {
     "name": "stdout",
     "output_type": "stream",
     "text": [
      "\n",
      "1/2 Simmilarity constructed\n"
     ]
    }
   ],
   "source": [
    "W_small = get_W_gaussian(X_small_full, normalize_W=cfg[\"normalize_W\"])\n",
    "print(\"\")\n",
    "print(\"1/2 Simmilarity constructed\")\n",
    "A_star, L_star = solve(W_small, B_small_full, Y_small_full, L_small_full, gamma=cfg[\"gamma\"])\n",
    "print(\"1/1 System Solved\")\n",
    "A_star_train, A_star_weak = A_star[:X_small_train.shape[0]], A_star[X_small_train.shape[0]:]\n",
    "L_star_train, L_star_weak = L_star[:X_small_train.shape[0]], L_star[X_small_train.shape[0]:]"
   ]
  },
  {
   "cell_type": "code",
   "execution_count": null,
   "metadata": {},
   "outputs": [],
   "source": [
    "get_Wasserstain(A_small_weak, L_small_weak, A_star_weak, L_star_weak), get_Wasserstain(A_small_train, L_small_train, A_star_train, L_star_train)"
   ]
  },
  {
   "cell_type": "markdown",
   "metadata": {},
   "source": [
    "#### Estimating Noise"
   ]
  },
  {
   "cell_type": "code",
   "execution_count": 4,
   "metadata": {},
   "outputs": [
    {
     "name": "stdout",
     "output_type": "stream",
     "text": [
      "Fitting 10 KMeans models: 1 2 3 4 5 6 7 8 9 10 "
     ]
    },
    {
     "name": "stderr",
     "output_type": "stream",
     "text": [
      "100% 36733/36733 [00:04<00:00, 8248.81it/s]\n"
     ]
    }
   ],
   "source": [
    "scaleX_all = StandardScaler()\n",
    "X_all = scaleX_all.fit_transform(X_all)\n",
    "\n",
    "#scaleY_all = StandardScaler()\n",
    "#y_all = scaleY_all.fit_transform(y_all)\n",
    "\n",
    "W_all = get_W_k_means(X_all, n_clusters=cfg[\"n_clusters\"], n_models = cfg[\"n_models\"], normalize_W=cfg[\"normalize_W\"], verbose=cfg[\"verbose\"])\n",
    "neigh_50 = W_all.argsort()[:, :50]\n",
    "\n",
    "L = []\n",
    "for i in (pbar := tqdm(range(neigh_50.shape[0]))):\n",
    "    neigh_20 = np.argpartition((y_all[neigh_50[i]]**2).sum(axis=1), 20)[:20]\n",
    "    cov = np.cov(y_all[neigh_50[i]][neigh_20], rowvar=False)\n",
    "    try:\n",
    "        L_i = np.linalg.cholesky(cov)\n",
    "        L_idx = np.tril_indices_from(L_i)\n",
    "        L.append(L_i[L_idx])\n",
    "    except LinAlgError:\n",
    "        print(\"Cholesky Failed\")\n",
    "        break\n",
    "        \n",
    "L_all = np.stack(L)\n",
    "A_all = y_all\n",
    "\n",
    "L_train = L_all[:X_data_train.shape[0]]\n",
    "A_train = A_all[:X_data_train.shape[0]]\n",
    "L_weak = L_all[X_data_train.shape[0]:]\n",
    "A_weak = A_all[X_data_train.shape[0]:]"
   ]
  },
  {
   "cell_type": "markdown",
   "metadata": {},
   "source": [
    "#### Model"
   ]
  },
  {
   "cell_type": "code",
   "execution_count": 5,
   "metadata": {},
   "outputs": [],
   "source": [
    "scaleX = StandardScaler()\n",
    "scaleY = StandardScaler()\n",
    "\n",
    "X_train = scaleX.fit_transform(X_data_train)\n",
    "X_weak = scaleX.transform(X_data_weak)\n",
    "\n",
    "y_train = scaleY.fit_transform(y_train)\n",
    "y_weak = scaleY.transform(y_weak)"
   ]
  },
  {
   "cell_type": "code",
   "execution_count": 6,
   "metadata": {},
   "outputs": [],
   "source": [
    "X_full = np.concatenate([X_train, X_weak])\n",
    "Y_full = np.concatenate([y_train, np.zeros_like(y_weak)])\n",
    "L_full = np.concatenate([L_train, np.zeros_like(L_weak)])\n",
    "B_full = np.diag(np.concatenate([np.ones(X_train.shape[0])*cfg[\"beta\"] + 1, np.ones(X_weak.shape[0])*cfg[\"beta\"]]))"
   ]
  },
  {
   "cell_type": "code",
   "execution_count": 7,
   "metadata": {},
   "outputs": [
    {
     "name": "stdout",
     "output_type": "stream",
     "text": [
      "Fitting 10 KMeans models: 1 2 3 4 5 6 7 8 9 10 \n",
      "1/2 Simmilarity constructed\n",
      "1/1 System Solved\n"
     ]
    }
   ],
   "source": [
    "W = get_W_k_means(X_full, n_clusters=cfg[\"n_clusters\"], n_models = cfg[\"n_models\"], normalize_W=cfg[\"normalize_W\"], verbose=cfg[\"verbose\"])\n",
    "print(\"\")\n",
    "print(\"1/2 Simmilarity constructed\")\n",
    "A_star, L_star = solve(W, B_full, Y_full, L_full, gamma=cfg[\"gamma\"])\n",
    "print(\"1/1 System Solved\")\n",
    "A_star_train, A_star_weak = A_star[:X_train.shape[0]], A_star[X_train.shape[0]:]\n",
    "L_star_train, L_star_weak = L_star[:X_train.shape[0]], L_star[X_train.shape[0]:]"
   ]
  },
  {
   "cell_type": "code",
   "execution_count": 8,
   "metadata": {},
   "outputs": [
    {
     "name": "stdout",
     "output_type": "stream",
     "text": [
      "KMeans Simelarity Weak: 1.4236289916819733, Train: 0.020870123143848705\n"
     ]
    }
   ],
   "source": [
    "print('KMeans similarity Weak: {}, Train: {}'.format(get_Wasserstain(A_weak, L_weak, A_star_weak, L_star_weak), get_Wasserstain(A_train, L_train, A_star_train, L_star_train)))"
   ]
  },
  {
   "cell_type": "code",
   "execution_count": 9,
   "metadata": {},
   "outputs": [
    {
     "name": "stdout",
     "output_type": "stream",
     "text": [
      "\n",
      "1/2 Simmilarity constructed\n",
      "1/1 System Solved\n"
     ]
    }
   ],
   "source": [
    "W = get_W_gaussian(X_full, normalize_W=cfg[\"normalize_W\"])\n",
    "print(\"\")\n",
    "print(\"1/2 Simmilarity constructed\")\n",
    "A_star, L_star = solve(W, B_full, Y_full, L_full, gamma=cfg[\"gamma\"])\n",
    "print(\"1/1 System Solved\")\n",
    "A_star_train, A_star_weak = A_star[:X_train.shape[0]], A_star[X_train.shape[0]:]\n",
    "L_star_train, L_star_weak = L_star[:X_train.shape[0]], L_star[X_train.shape[0]:]"
   ]
  },
  {
   "cell_type": "code",
   "execution_count": 10,
   "metadata": {},
   "outputs": [
    {
     "name": "stdout",
     "output_type": "stream",
     "text": [
      "Gaussian similarity Weak: 1.4727027075913477, Train: 0.02095116656050557\n"
     ]
    }
   ],
   "source": [
    "print('Gaussian similarity Weak: {}, Train: {}'.format(get_Wasserstain(A_weak, L_weak, A_star_weak, L_star_weak), get_Wasserstain(A_train, L_train, A_star_train, L_star_train)))"
   ]
  },
  {
   "cell_type": "code",
   "execution_count": 12,
   "metadata": {},
   "outputs": [
    {
     "name": "stdout",
     "output_type": "stream",
     "text": [
      "\n",
      "1/2 Simmilarity constructed\n",
      "1/1 System Solved\n"
     ]
    }
   ],
   "source": [
    "idxes_L_diag = []\n",
    "k = 0\n",
    "for i in range(2, 4):\n",
    "    idxes_L_diag.append(k)\n",
    "    k+=i\n",
    "\n",
    "W = get_W_gaussian(X_full, normalize_W=cfg[\"normalize_W\"])\n",
    "print(\"\")\n",
    "print(\"1/2 Simmilarity constructed\")\n",
    "\n",
    "L_full_diag = L_full[:, idxes_L_diag]\n",
    "A_star, L_star = solve(W, B_full, Y_full, L_full_diag, gamma=cfg[\"gamma\"])\n",
    "print(\"1/1 System Solved\")\n",
    "A_star_train, A_star_weak = A_star[:X_train.shape[0]], A_star[X_train.shape[0]:]\n",
    "L_star_train, L_star_weak = L_star[:X_train.shape[0]], L_star[X_train.shape[0]:]\n",
    "\n",
    "L_star_single_weak = np.zeros_like(L_weak)\n",
    "L_star_single_weak[:, idxes_L_diag] = L_star_weak\n",
    "L_star_single_train = np.zeros_like(L_train)\n",
    "L_star_single_train[:, idxes_L_diag] = L_star_train"
   ]
  },
  {
   "cell_type": "code",
   "execution_count": 13,
   "metadata": {},
   "outputs": [
    {
     "name": "stdout",
     "output_type": "stream",
     "text": [
      "Gaussian similarity single output Weak: 1.4729638686981654, Train: 0.022668544542659912\n"
     ]
    }
   ],
   "source": [
    "print('Gaussian similarity single output Weak: {}, Train: {}'.format(\n",
    "    get_Wasserstain(A_weak, L_weak, A_star_weak, L_star_single_weak),\n",
    "    get_Wasserstain(A_train, L_train, A_star_train, L_star_single_train)\n",
    "))"
   ]
  },
  {
   "cell_type": "code",
   "execution_count": 16,
   "metadata": {},
   "outputs": [
    {
     "name": "stdout",
     "output_type": "stream",
     "text": [
      "Fitting 10 KMeans models: 1 2 3 4 5 6 7 8 9 10 \n",
      "1/2 Simmilarity constructed\n",
      "1/1 System Solved\n"
     ]
    }
   ],
   "source": [
    "idxes_L_diag = []\n",
    "k = 0\n",
    "for i in range(2, 4):\n",
    "    idxes_L_diag.append(k)\n",
    "    k+=i\n",
    "\n",
    "W = get_W_k_means(X_full, n_clusters=cfg[\"n_clusters\"], n_models = cfg[\"n_models\"], normalize_W=cfg[\"normalize_W\"], verbose=cfg[\"verbose\"])\n",
    "print(\"\")\n",
    "print(\"1/2 Simmilarity constructed\")\n",
    "\n",
    "L_full_diag = L_full[:, idxes_L_diag]\n",
    "A_star, L_star = solve(W, B_full, Y_full, L_full_diag, gamma=cfg[\"gamma\"])\n",
    "print(\"1/1 System Solved\")\n",
    "A_star_train, A_star_weak = A_star[:X_train.shape[0]], A_star[X_train.shape[0]:]\n",
    "L_star_train, L_star_weak = L_star[:X_train.shape[0]], L_star[X_train.shape[0]:]\n",
    "\n",
    "L_star_single_weak = np.zeros_like(L_weak)\n",
    "L_star_single_weak[:, idxes_L_diag] = L_star_weak\n",
    "L_star_single_train = np.zeros_like(L_train)\n",
    "L_star_single_train[:, idxes_L_diag] = L_star_train"
   ]
  },
  {
   "cell_type": "code",
   "execution_count": 17,
   "metadata": {},
   "outputs": [
    {
     "name": "stdout",
     "output_type": "stream",
     "text": [
      "KMeans similarity single output Weak: 1.395397555178696, Train: 0.02258449689190106\n"
     ]
    }
   ],
   "source": [
    "print('KMeans similarity single output Weak: {}, Train: {}'.format(\n",
    "    get_Wasserstain(A_weak, L_weak, A_star_weak, L_star_single_weak),\n",
    "    get_Wasserstain(A_train, L_train, A_star_train, L_star_single_train)\n",
    "))"
   ]
  },
  {
   "cell_type": "markdown",
   "metadata": {},
   "source": [
    "### No normalization"
   ]
  },
  {
   "cell_type": "code",
   "execution_count": 86,
   "metadata": {},
   "outputs": [],
   "source": [
    "results_no_scale = {\n",
    "    \"MultiKMeans\":[],\n",
    "    \"MultiGauss\":[],\n",
    "    \"SingleKMeans\":[],\n",
    "    \"SingleGauss\":[],\n",
    "}"
   ]
  },
  {
   "cell_type": "code",
   "execution_count": 87,
   "metadata": {},
   "outputs": [
    {
     "name": "stdout",
     "output_type": "stream",
     "text": [
      "Fitting 10 KMeans models: 1 2 3 4 5 6 7 8 9 10 "
     ]
    },
    {
     "name": "stderr",
     "output_type": "stream",
     "text": [
      "100% 36733/36733 [00:04<00:00, 8388.23it/s]\n"
     ]
    }
   ],
   "source": [
    "path = \"./data/pp_gas_emission/\"\n",
    "\n",
    "data_2011 = pd.read_csv(path+\"gt_2011.csv\")\n",
    "data_2012 = pd.read_csv(path+\"gt_2012.csv\")\n",
    "data_2013 = pd.read_csv(path+\"gt_2013.csv\")\n",
    "data_2014 = pd.read_csv(path+\"gt_2014.csv\")\n",
    "data_2015 = pd.read_csv(path+\"gt_2015.csv\")\n",
    "\n",
    "X_data_2011 = data_2011.drop([\"CO\", \"NOX\"], axis=1)\n",
    "y_data_2011 = data_2011[[\"CO\", \"NOX\"]]\n",
    "\n",
    "X_data_2012 = data_2012.drop([\"CO\", \"NOX\"], axis=1)\n",
    "y_data_2012 = data_2012[[\"CO\", \"NOX\"]]\n",
    "\n",
    "X_data_2013 = data_2013.drop([\"CO\", \"NOX\"], axis=1)\n",
    "y_data_2013 = data_2013[[\"CO\", \"NOX\"]]\n",
    "\n",
    "X_data_2014 = data_2014.drop([\"CO\", \"NOX\"], axis=1)\n",
    "y_data_2014 = data_2014[[\"CO\", \"NOX\"]]\n",
    "\n",
    "X_data_2015 = data_2015.drop([\"CO\", \"NOX\"], axis=1)\n",
    "y_data_2015 = data_2015[[\"CO\", \"NOX\"]]\n",
    "\n",
    "X_data_train = np.concatenate([\n",
    "    X_data_2011.to_numpy(),\n",
    "    X_data_2012.to_numpy(),\n",
    "    X_data_2013.to_numpy(),\n",
    "    X_data_2014.to_numpy(),\n",
    "], axis=0)\n",
    "\n",
    "y_train = np.concatenate([\n",
    "    y_data_2011.to_numpy(),\n",
    "    y_data_2012.to_numpy(),\n",
    "    y_data_2013.to_numpy(),\n",
    "    y_data_2014.to_numpy(),\n",
    "], axis=0)\n",
    "\n",
    "X_data_weak = X_data_2015.to_numpy()\n",
    "y_weak = y_data_2015.to_numpy()\n",
    "\n",
    "X_all = np.concatenate([\n",
    "            X_data_2011.to_numpy(),\n",
    "            X_data_2012.to_numpy(),\n",
    "            X_data_2013.to_numpy(),\n",
    "            X_data_2014.to_numpy(),\n",
    "            X_data_2015.to_numpy(),\n",
    "        ], axis=0)\n",
    "\n",
    "y_all = np.concatenate([\n",
    "            y_data_2011.to_numpy(),\n",
    "            y_data_2012.to_numpy(),\n",
    "            y_data_2013.to_numpy(),\n",
    "            y_data_2014.to_numpy(),\n",
    "            y_data_2015.to_numpy(),\n",
    "        ], axis=0)\n",
    "\n",
    "#scaleX_all = StandardScaler()\n",
    "#X_all = scaleX_all.fit_transform(X_all)\n",
    "\n",
    "W_all = get_W_k_means(X_all, n_clusters=cfg[\"n_clusters\"], n_models = cfg[\"n_models\"], normalize_W=cfg[\"normalize_W\"], verbose=cfg[\"verbose\"])\n",
    "neigh_50 = W_all.argsort()[:, :50]\n",
    "\n",
    "L = []\n",
    "for i in (pbar := tqdm(range(neigh_50.shape[0]))):\n",
    "    neigh_20 = np.argpartition((y_all[neigh_50[i]]**2).sum(axis=1), 20)[:20]\n",
    "    cov = np.cov(y_all[neigh_50[i]][neigh_20], rowvar=False)\n",
    "    try:\n",
    "        L_i = np.linalg.cholesky(cov)\n",
    "        L_idx = np.tril_indices_from(L_i)\n",
    "        L.append(L_i[L_idx])\n",
    "    except LinAlgError:\n",
    "        print(\"Cholesky Failed\")\n",
    "        break\n",
    "        \n",
    "L_all = np.stack(L)\n",
    "A_all = y_all\n",
    "\n",
    "L_train = L_all[:X_data_train.shape[0]]\n",
    "A_train = A_all[:X_data_train.shape[0]]\n",
    "L_weak = L_all[X_data_train.shape[0]:]\n",
    "A_weak = A_all[X_data_train.shape[0]:]\n",
    "\n",
    "#scaleX = StandardScaler()\n",
    "\n",
    "#X_train = scaleX.fit_transform(X_data_train)\n",
    "#X_weak = scaleX.transform(X_data_weak)\n",
    "\n",
    "X_train = X_data_train\n",
    "X_weak = X_data_weak"
   ]
  },
  {
   "cell_type": "code",
   "execution_count": 104,
   "metadata": {},
   "outputs": [
    {
     "data": {
      "text/plain": [
       "array([0., 0., 0., ..., 0., 0., 0.])"
      ]
     },
     "execution_count": 104,
     "metadata": {},
     "output_type": "execute_result"
    }
   ],
   "source": [
    "W.min(1)"
   ]
  },
  {
   "cell_type": "code",
   "execution_count": 88,
   "metadata": {},
   "outputs": [],
   "source": [
    "X_full = np.concatenate([X_train, X_weak])\n",
    "Y_full = np.concatenate([y_train, np.zeros_like(y_weak)])\n",
    "L_full = np.concatenate([L_train, np.zeros_like(L_weak)])\n",
    "B_full = np.diag(np.concatenate([np.ones(X_train.shape[0])*cfg[\"beta\"] + 1, np.ones(X_weak.shape[0])*cfg[\"beta\"]]))"
   ]
  },
  {
   "cell_type": "code",
   "execution_count": 89,
   "metadata": {},
   "outputs": [],
   "source": [
    "cfg[\"normalize_W\"] = False"
   ]
  },
  {
   "cell_type": "code",
   "execution_count": 90,
   "metadata": {},
   "outputs": [
    {
     "name": "stdout",
     "output_type": "stream",
     "text": [
      "Fitting 10 KMeans models: 1 2 3 4 5 6 7 8 9 10 "
     ]
    }
   ],
   "source": [
    "W_kmeans = get_W_k_means(X_full, n_clusters=cfg[\"n_clusters\"], n_models = cfg[\"n_models\"], normalize_W=cfg[\"normalize_W\"], verbose=cfg[\"verbose\"])\n",
    "W_gauss = get_W_gaussian(X_full, normalize_W=cfg[\"normalize_W\"])"
   ]
  },
  {
   "cell_type": "code",
   "execution_count": 96,
   "metadata": {},
   "outputs": [],
   "source": [
    "A_star, L_star = solve(W_kmeans, B_full, Y_full, L_full, gamma=cfg[\"gamma\"])\n",
    "A_star_train, A_star_weak = A_star[:X_train.shape[0]], A_star[X_train.shape[0]:]\n",
    "L_star_train, L_star_weak = L_star[:X_train.shape[0]], L_star[X_train.shape[0]:]\n",
    "results_no_scale[\"MultiKMeans\"] = [get_Wasserstain(A_weak, L_weak, A_star_weak, L_star_weak), get_Wasserstain(A_train, L_train, A_star_train, L_star_train)]"
   ]
  },
  {
   "cell_type": "code",
   "execution_count": 97,
   "metadata": {},
   "outputs": [],
   "source": [
    "A_star, L_star = solve(W_gauss, B_full, Y_full, L_full, gamma=cfg[\"gamma\"])\n",
    "A_star_train, A_star_weak = A_star[:X_train.shape[0]], A_star[X_train.shape[0]:]\n",
    "L_star_train, L_star_weak = L_star[:X_train.shape[0]], L_star[X_train.shape[0]:]\n",
    "results_no_scale[\"MultiGauss\"] = [get_Wasserstain(A_weak, L_weak, A_star_weak, L_star_weak), get_Wasserstain(A_train, L_train, A_star_train, L_star_train)]"
   ]
  },
  {
   "cell_type": "code",
   "execution_count": 98,
   "metadata": {},
   "outputs": [],
   "source": [
    "idxes_L_diag = []\n",
    "k = 0\n",
    "for i in range(2, 4):\n",
    "    idxes_L_diag.append(k)\n",
    "    k+=i\n",
    "    \n",
    "L_full_diag = L_full[:, idxes_L_diag]"
   ]
  },
  {
   "cell_type": "code",
   "execution_count": null,
   "metadata": {},
   "outputs": [],
   "source": [
    "A_star, L_star = solve(W_kmeans, B_full, Y_full, L_full_diag, gamma=cfg[\"gamma\"])\n",
    "A_star_train, A_star_weak = A_star[:X_train.shape[0]], A_star[X_train.shape[0]:]\n",
    "L_star_train, L_star_weak = L_star[:X_train.shape[0]], L_star[X_train.shape[0]:]\n",
    "\n",
    "L_star_single_weak = np.zeros_like(L_weak)\n",
    "L_star_single_weak[:, idxes_L_diag] = L_star_weak\n",
    "L_star_single_train = np.zeros_like(L_train)\n",
    "L_star_single_train[:, idxes_L_diag] = L_star_train\n",
    "\n",
    "results_no_scale[\"SingleKMeans\"] = [get_Wasserstain(A_weak, L_weak, A_star_weak, L_star_single_weak), get_Wasserstain(A_train, L_train, A_star_train, L_star_single_train)]"
   ]
  },
  {
   "cell_type": "code",
   "execution_count": null,
   "metadata": {},
   "outputs": [],
   "source": [
    "A_star, L_star = solve(W_gauss, B_full, Y_full, L_full_diag, gamma=cfg[\"gamma\"])\n",
    "A_star_train, A_star_weak = A_star[:X_train.shape[0]], A_star[X_train.shape[0]:]\n",
    "L_star_train, L_star_weak = L_star[:X_train.shape[0]], L_star[X_train.shape[0]:]\n",
    "\n",
    "L_star_single_weak = np.zeros_like(L_weak)\n",
    "L_star_single_weak[:, idxes_L_diag] = L_star_weak\n",
    "L_star_single_train = np.zeros_like(L_train)\n",
    "L_star_single_train[:, idxes_L_diag] = L_star_train\n",
    "\n",
    "results_no_scale[\"SingleGauss\"] = [get_Wasserstain(A_weak, L_weak, A_star_weak, L_star_single_weak), get_Wasserstain(A_train, L_train, A_star_train, L_star_single_train)]"
   ]
  },
  {
   "cell_type": "code",
   "execution_count": 102,
   "metadata": {},
   "outputs": [
    {
     "data": {
      "image/png": "[encoded data removed]",
      "text/plain": [
       "<Figure size 1080x504 with 2 Axes>"
      ]
     },
     "metadata": {
      "needs_background": "light"
     },
     "output_type": "display_data"
    }
   ],
   "source": [
    "plt.figure(figsize=(15, 7))\n",
    "plt.suptitle('Wasserstain distance on CO and NOX prediction')\n",
    "ax1 = plt.subplot(121)\n",
    "ax1.set_title(\"Train\")\n",
    "ax1.scatter(np.arange(len(results_no_scale.items())), [x[1] for _, x in results_no_scale.items()], s=100)\n",
    "\n",
    "ax2 = plt.subplot(122)\n",
    "ax2.set_title(\"Test\")\n",
    "ax2.scatter(np.arange(len(results_no_scale.items())), [[x[0] for _, x in results_no_scale.items()]], s=100)\n",
    "\n",
    "plt.show()"
   ]
  }
 ],
 "metadata": {
  "kernelspec": {
   "display_name": "my_39",
   "language": "python",
   "name": "myenv"
  },
  "language_info": {
   "codemirror_mode": {
    "name": "ipython",
    "version": 3
   },
   "file_extension": ".py",
   "mimetype": "text/x-python",
   "name": "python",
   "nbconvert_exporter": "python",
   "pygments_lexer": "ipython3",
   "version": "3.9.7"
  }
 },
 "nbformat": 4,
 "nbformat_minor": 4
}
