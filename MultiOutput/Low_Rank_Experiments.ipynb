{
 "cells": [
  {
   "cell_type": "code",
   "execution_count": 28,
   "id": "779771ee",
   "metadata": {},
   "outputs": [],
   "source": [
    "### Main\n",
    "import time\n",
    "import numpy as np\n",
    "import pandas as pd\n",
    "from tqdm.notebook import tqdm\n",
    "import matplotlib.pyplot as plt\n",
    "from scipy.sparse.linalg import svds\n",
    "\n",
    "### sklearn\n",
    "from sklearn.preprocessing import MinMaxScaler\n",
    "from sklearn.utils.extmath import randomized_svd\n",
    "from sklearn.model_selection import train_test_split\n",
    "\n",
    "### Custom\n",
    "from src.data import *\n",
    "from src.utils import *\n",
    "from src.main import *"
   ]
  },
  {
   "cell_type": "code",
   "execution_count": 2,
   "id": "5dba80d0",
   "metadata": {},
   "outputs": [],
   "source": [
    "cfg = {\n",
    "    \"beta\":0.001,\n",
    "    \"gamma\":0.001,\n",
    "    \"n_clusters\":50,\n",
    "    \"n_models\":2,\n",
    "    \"verbose\":True,\n",
    "    \"train_size\": 0.01,\n",
    "    \"weak_size\": 0.1,\n",
    "    \"test_size\": 0.89,\n",
    "    \"random_state\":42,\n",
    "    \"path\":\"./data/pp_gas_emission/\",\n",
    "    \"y\":[\"CO\", \"NOX\"],\n",
    "    \"rank\":100,\n",
    "}\n",
    "\n",
    "np.random.seed(42)"
   ]
  },
  {
   "cell_type": "markdown",
   "id": "b03eccb7",
   "metadata": {},
   "source": [
    "### Data Extraction"
   ]
  },
  {
   "cell_type": "code",
   "execution_count": 3,
   "id": "56140276",
   "metadata": {},
   "outputs": [],
   "source": [
    "data_2015 = pd.read_csv(cfg[\"path\"]+\"gt_2015.csv\")\n",
    "X_data_2015 = data_2015.drop(cfg[\"y\"], axis=1).to_numpy()\n",
    "y_data_2015 = data_2015[cfg[\"y\"]].to_numpy()"
   ]
  },
  {
   "cell_type": "code",
   "execution_count": 4,
   "id": "fe267c2f",
   "metadata": {},
   "outputs": [],
   "source": [
    "size_weak = cfg[\"weak_size\"]/(cfg[\"train_size\"] + cfg[\"weak_size\"])\n",
    "X_train, X_test, y_train, y_test = train_test_split(X_data_2015, y_data_2015,\n",
    "                                                    test_size=cfg[\"test_size\"], random_state=cfg[\"random_state\"])\n",
    "X_train, X_weak, y_train, y_weak = train_test_split(X_train, y_train,\n",
    "                                                    test_size=size_weak, random_state=cfg[\"random_state\"])\n",
    "\n",
    "X_all = np.concatenate([X_train, X_weak, X_test])\n",
    "y_all = np.concatenate([y_train, y_weak, y_test])"
   ]
  },
  {
   "cell_type": "code",
   "execution_count": 5,
   "id": "b0a045ce",
   "metadata": {},
   "outputs": [
    {
     "name": "stdout",
     "output_type": "stream",
     "text": [
      "Fitting 2 KMeans models: 1 2 "
     ]
    },
    {
     "data": {
      "application/vnd.jupyter.widget-view+json": {
       "model_id": "98fdcc31565d49a0870ce6740cf6b69a",
       "version_major": 2,
       "version_minor": 0
      },
      "text/plain": [
       "  0%|          | 0/7384 [00:00<?, ?it/s]"
      ]
     },
     "metadata": {},
     "output_type": "display_data"
    }
   ],
   "source": [
    "ScaleX = MinMaxScaler()\n",
    "X_all_scaled = ScaleX.fit_transform(X_all)\n",
    "W = get_W_k_means(X_all_scaled, \n",
    "                  n_clusters=cfg[\"n_clusters\"],\n",
    "                  n_models=cfg[\"n_models\"],\n",
    "                  verbose=cfg[\"verbose\"])\n",
    "\n",
    "neigh_100 = W.argsort()[:, -100:][:, ::-1]\n",
    "L = []\n",
    "for i in (pbar := tqdm(range(neigh_100.shape[0]))):\n",
    "    #neigh_20 = np.argpartition((y_all[neigh_100[i]]**2).sum(axis=1), 20)[:20]\n",
    "    cov = np.cov(y_all[neigh_100[i]], rowvar=False)\n",
    "    try:\n",
    "        L_i = np.linalg.cholesky(cov)\n",
    "        L_idx = np.tril_indices_from(L_i)\n",
    "        L.append(L_i[L_idx])\n",
    "    except LinAlgError:\n",
    "        print(\"Cholesky Failed\")\n",
    "        break"
   ]
  },
  {
   "cell_type": "code",
   "execution_count": 6,
   "id": "f662685b",
   "metadata": {},
   "outputs": [],
   "source": [
    "L_all = np.stack(L)\n",
    "A_all = y_all\n",
    "\n",
    "L_train = L_all[:X_train.shape[0]]\n",
    "A_train = A_all[:X_train.shape[0]]\n",
    "L_weak = L_all[X_train.shape[0]:X_train.shape[0]+X_weak.shape[0]]\n",
    "A_weak = A_all[X_train.shape[0]:X_train.shape[0]+X_weak.shape[0]]\n",
    "L_test = L_all[X_train.shape[0]+X_weak.shape[0]:]\n",
    "A_test = A_all[X_train.shape[0]+X_weak.shape[0]:]\n",
    "\n",
    "X_full = np.concatenate([X_train, X_weak, X_test])\n",
    "Y_full = np.concatenate([y_train, y_weak, np.zeros_like(y_test)])\n",
    "L_full = np.concatenate([L_train, L_weak, np.zeros_like(L_test)])\n",
    "\n",
    "B_full = np.diag(np.concatenate([\n",
    "    np.ones(X_train.shape[0]+X_weak.shape[0])*cfg[\"beta\"] + 1,\n",
    "    np.ones(X_test.shape[0])*cfg[\"beta\"]]))"
   ]
  },
  {
   "cell_type": "markdown",
   "id": "1b13351c",
   "metadata": {},
   "source": [
    "### Time Experiments and Accuracy"
   ]
  },
  {
   "cell_type": "markdown",
   "id": "c73dd12e",
   "metadata": {},
   "source": [
    "#### Full Inverse"
   ]
  },
  {
   "cell_type": "code",
   "execution_count": 7,
   "id": "6205063b",
   "metadata": {},
   "outputs": [],
   "source": [
    "start_time = time.time()\n",
    "W = get_W_k_means(X_all_scaled, \n",
    "                  n_clusters=cfg[\"n_clusters\"],\n",
    "                  n_models=cfg[\"n_models\"])\n",
    "\n",
    "A_star, L_star = solve(W, B_full, Y_full, L_full, gamma=cfg[\"gamma\"])\n",
    "full_inverse_time = time.time() - start_time"
   ]
  },
  {
   "cell_type": "code",
   "execution_count": 9,
   "id": "279e8503",
   "metadata": {},
   "outputs": [
    {
     "name": "stdout",
     "output_type": "stream",
     "text": [
      "--- 8.539137125015259 seconds ---\n",
      "L2\n",
      "Train L2 1.74317\n",
      "Weak L2 2.51588\n",
      "Test L2 49.75380\n",
      "\n",
      "MWD\n",
      "Train L2 1.93715\n",
      "Weak L2 2.63578\n",
      "Test L2 52.47645\n"
     ]
    }
   ],
   "source": [
    "A_star_gt_train = A_star[:X_train.shape[0]]\n",
    "L_star_gt_train = L_star[:X_train.shape[0]]\n",
    "\n",
    "A_star_gt_weak = A_star[X_train.shape[0]:X_train.shape[0]+X_weak.shape[0]]\n",
    "L_star_gt_weak = L_star[X_train.shape[0]:X_train.shape[0]+X_weak.shape[0]]\n",
    "\n",
    "A_star_gt_test = A_star[X_train.shape[0]+X_weak.shape[0]:]\n",
    "L_star_gt_test = L_star[X_train.shape[0]+X_weak.shape[0]:]\n",
    "\n",
    "print(\"--- %s seconds ---\" % full_inverse_time)\n",
    "get_statistics(A_train, L_train, A_star_gt_train, L_star_gt_train,\n",
    "               A_weak, L_weak, A_star_gt_weak, L_star_gt_weak,\n",
    "               A_test, L_test, A_star_gt_test, L_star_gt_test,)"
   ]
  },
  {
   "cell_type": "markdown",
   "id": "4c6218b0",
   "metadata": {},
   "source": [
    "#### Nystom Method"
   ]
  },
  {
   "cell_type": "code",
   "execution_count": 10,
   "id": "80007ff4",
   "metadata": {},
   "outputs": [],
   "source": [
    "start_time = time.time()\n",
    "nystrom = Nystrom(cfg[\"rank\"])\n",
    "C_1_N, C_2_N = nystrom(W)\n",
    "D = np.diag(np.sum(W, axis=1))\n",
    "\n",
    "A_star, L_star = solve_sparse(D, C_1_N, C_2_N, B_full, Y_full, L_full, gamma=cfg[\"gamma\"])\n",
    "nystrom_time = time.time() - start_time"
   ]
  },
  {
   "cell_type": "code",
   "execution_count": 11,
   "id": "732bbf12",
   "metadata": {},
   "outputs": [
    {
     "name": "stdout",
     "output_type": "stream",
     "text": [
      "--- 3.909219980239868 seconds ---\n",
      "L2\n",
      "Train L2 11.81876\n",
      "Weak L2 21.24649\n",
      "Test L2 592.09134\n",
      "\n",
      "MWD\n",
      "Train L2 12.09975\n",
      "Weak L2 21.53375\n",
      "Test L2 600.61976\n"
     ]
    }
   ],
   "source": [
    "A_star_N_train = A_star[:X_train.shape[0]]\n",
    "L_star_N_train = L_star[:X_train.shape[0]]\n",
    "\n",
    "A_star_N_weak = A_star[X_train.shape[0]:X_train.shape[0]+X_weak.shape[0]]\n",
    "L_star_N_weak = L_star[X_train.shape[0]:X_train.shape[0]+X_weak.shape[0]]\n",
    "\n",
    "A_star_N_test = A_star[X_train.shape[0]+X_weak.shape[0]:]\n",
    "L_star_N_test = L_star[X_train.shape[0]+X_weak.shape[0]:]\n",
    "\n",
    "print(\"--- %s seconds ---\" % nystrom_time)\n",
    "get_statistics(A_train, L_train, A_star_N_train, L_star_N_train,\n",
    "               A_weak, L_weak, A_star_N_weak, L_star_N_weak,\n",
    "               A_test, L_test, A_star_N_test, L_star_N_test,)"
   ]
  },
  {
   "cell_type": "markdown",
   "id": "07771db9",
   "metadata": {},
   "source": [
    "#### Truncated SVD"
   ]
  },
  {
   "cell_type": "code",
   "execution_count": 17,
   "id": "886192ee",
   "metadata": {},
   "outputs": [],
   "source": [
    "start_time = time.time()\n",
    "u, s, vt = svds(W, k=cfg[\"rank\"])\n",
    "C_1_T_svd, C_2_T_svd = u, np.diag(s)@vt\n",
    "D = np.diag(np.sum(W, axis=1))\n",
    "\n",
    "A_star, L_star = solve_sparse(D, C_1_T_svd, C_2_T_svd, B_full, Y_full, L_full, gamma=cfg[\"gamma\"])\n",
    "truncated_svd_time = time.time() - start_time"
   ]
  },
  {
   "cell_type": "code",
   "execution_count": 19,
   "id": "e91c4d91",
   "metadata": {},
   "outputs": [
    {
     "name": "stdout",
     "output_type": "stream",
     "text": [
      "--- 15.31299114227295 seconds ---\n",
      "L2\n",
      "Train L2 1.74317\n",
      "Weak L2 2.51588\n",
      "Test L2 49.75380\n",
      "\n",
      "MWD\n",
      "Train L2 1.93715\n",
      "Weak L2 2.63578\n",
      "Test L2 52.47645\n"
     ]
    }
   ],
   "source": [
    "A_star_T_train = A_star[:X_train.shape[0]]\n",
    "L_star_T_train = L_star[:X_train.shape[0]]\n",
    "\n",
    "A_star_T_weak = A_star[X_train.shape[0]:X_train.shape[0]+X_weak.shape[0]]\n",
    "L_star_T_weak = L_star[X_train.shape[0]:X_train.shape[0]+X_weak.shape[0]]\n",
    "\n",
    "A_star_T_test = A_star[X_train.shape[0]+X_weak.shape[0]:]\n",
    "L_star_T_test = L_star[X_train.shape[0]+X_weak.shape[0]:]\n",
    "\n",
    "print(\"--- %s seconds ---\" % truncated_svd_time)\n",
    "get_statistics(A_train, L_train, A_star_T_train, L_star_T_train,\n",
    "               A_weak, L_weak, A_star_T_weak, L_star_T_weak,\n",
    "               A_test, L_test, A_star_T_test, L_star_T_test,)"
   ]
  },
  {
   "cell_type": "markdown",
   "id": "30e9bdae",
   "metadata": {},
   "source": [
    "#### Random SVD"
   ]
  },
  {
   "cell_type": "code",
   "execution_count": 15,
   "id": "335aedd0",
   "metadata": {},
   "outputs": [],
   "source": [
    "start_time = time.time()\n",
    "u, s, vt = randomized_svd(W, n_components=cfg[\"rank\"], random_state=cfg[\"random_state\"])\n",
    "C_1_R_svd, C_2_R_svd = u, np.diag(s)@vt\n",
    "D = np.diag(np.sum(W, axis=1))\n",
    "\n",
    "A_star, L_star = solve_sparse(D, C_1_R_svd, C_2_R_svd, B_full, Y_full, L_full, gamma=cfg[\"gamma\"])\n",
    "random_svd_time = time.time() - start_time"
   ]
  },
  {
   "cell_type": "code",
   "execution_count": 16,
   "id": "52e84032",
   "metadata": {},
   "outputs": [
    {
     "name": "stdout",
     "output_type": "stream",
     "text": [
      "--- 5.171774387359619 seconds ---\n",
      "L2\n",
      "Train L2 1.74317\n",
      "Weak L2 2.51588\n",
      "Test L2 49.75380\n",
      "\n",
      "MWD\n",
      "Train L2 1.93715\n",
      "Weak L2 2.63578\n",
      "Test L2 52.47645\n"
     ]
    }
   ],
   "source": [
    "A_star_R_train = A_star[:X_train.shape[0]]\n",
    "L_star_R_train = L_star[:X_train.shape[0]]\n",
    "\n",
    "A_star_R_weak = A_star[X_train.shape[0]:X_train.shape[0]+X_weak.shape[0]]\n",
    "L_star_R_weak = L_star[X_train.shape[0]:X_train.shape[0]+X_weak.shape[0]]\n",
    "\n",
    "A_star_R_test = A_star[X_train.shape[0]+X_weak.shape[0]:]\n",
    "L_star_R_test = L_star[X_train.shape[0]+X_weak.shape[0]:]\n",
    "\n",
    "print(\"--- %s seconds ---\" % random_svd_time)\n",
    "get_statistics(A_train, L_train, A_star_R_train, L_star_R_train,\n",
    "               A_weak, L_weak, A_star_R_weak, L_star_R_weak,\n",
    "               A_test, L_test, A_star_R_test, L_star_R_test,)"
   ]
  },
  {
   "cell_type": "markdown",
   "id": "201f6df7",
   "metadata": {},
   "source": [
    "### Rank experiments"
   ]
  },
  {
   "cell_type": "markdown",
   "id": "b1145244",
   "metadata": {},
   "source": [
    "*For all methods*\n",
    "- Execusion time\n",
    "- Divergence from original solution\n",
    "- Fro norm of W approximation"
   ]
  },
  {
   "cell_type": "code",
   "execution_count": 36,
   "id": "f6a3d3d2",
   "metadata": {},
   "outputs": [
    {
     "data": {
      "application/vnd.jupyter.widget-view+json": {
       "model_id": "4c205bbd59134653a88be7615ac569c2",
       "version_major": 2,
       "version_minor": 0
      },
      "text/plain": [
       "  0%|          | 0/19 [00:00<?, ?it/s]"
      ]
     },
     "metadata": {},
     "output_type": "display_data"
    }
   ],
   "source": [
    "results = {\n",
    "    \"Time\":{\n",
    "        \"Nystrom Decomposition\":[],\n",
    "        \"Truncated SVD\":[],\n",
    "        \"Randomized SVD\":[],\n",
    "    },\n",
    "    \"Accuracy\":{\n",
    "        \"Nystrom Decomposition\":{\n",
    "            \"Train\":[],\n",
    "            \"Test\":[],\n",
    "            \"Weak\":[],\n",
    "        },\n",
    "        \"Truncated SVD\":{\n",
    "            \"Train\":[],\n",
    "            \"Test\":[],\n",
    "            \"Weak\":[],\n",
    "        },\n",
    "        \"Randomized SVD\":{\n",
    "            \"Train\":[],\n",
    "            \"Test\":[],\n",
    "            \"Weak\":[],\n",
    "        }\n",
    "    },\n",
    "    \"Distance to W\":{\n",
    "        \"Nystrom Decomposition\":[],\n",
    "        \"Truncated SVD\":[],\n",
    "        \"Randomized SVD\":[],\n",
    "    }\n",
    "}\n",
    "\n",
    "for r in tqdm(range(50, 1000, 50)):\n",
    "    ### Nystrom\n",
    "    start_time = time.time()\n",
    "    nystrom = Nystrom(r)\n",
    "    C_1_N, C_2_N = nystrom(W)\n",
    "    A_star, L_star = solve_sparse(D, C_1_N, C_2_N, B_full, Y_full, L_full, gamma=cfg[\"gamma\"])\n",
    "    nystrom_time = time.time() - start_time\n",
    "\n",
    "    A_star_N_train = A_star[:X_train.shape[0]]\n",
    "    L_star_N_train = L_star[:X_train.shape[0]]\n",
    "\n",
    "    A_star_N_weak = A_star[X_train.shape[0]:X_train.shape[0]+X_weak.shape[0]]\n",
    "    L_star_N_weak = L_star[X_train.shape[0]:X_train.shape[0]+X_weak.shape[0]]\n",
    "\n",
    "    A_star_N_test = A_star[X_train.shape[0]+X_weak.shape[0]:]\n",
    "    L_star_N_test = L_star[X_train.shape[0]+X_weak.shape[0]:]\n",
    "\n",
    "    results[\"Time\"][\"Nystrom Decomposition\"].append(nystrom_time)\n",
    "    results[\"Accuracy\"][\"Nystrom Decomposition\"][\"Train\"].append(get_Wasserstain(A_train, L_train, A_star_N_train, L_star_N_train))\n",
    "    results[\"Accuracy\"][\"Nystrom Decomposition\"][\"Weak\"].append(get_Wasserstain(A_weak, L_weak, A_star_N_weak, L_star_N_weak))\n",
    "    results[\"Accuracy\"][\"Nystrom Decomposition\"][\"Test\"].append(get_Wasserstain(A_test, L_test, A_star_N_test, L_star_N_test))\n",
    "    results[\"Distance to W\"][\"Nystrom Decomposition\"].append(np.linalg.norm(W - C_1_N@C_2_N))\n",
    "\n",
    "    ### Truncated SVD\n",
    "    start_time = time.time()\n",
    "    u, s, vt = svds(W, k=r)\n",
    "    C_1_T_svd, C_2_T_svd = u, np.diag(s)@vt\n",
    "    A_star, L_star = solve_sparse(D, C_1_T_svd, C_2_T_svd, B_full, Y_full, L_full, gamma=cfg[\"gamma\"])\n",
    "    truncated_svd_time = time.time() - start_time\n",
    "\n",
    "    A_star_T_train = A_star[:X_train.shape[0]]\n",
    "    L_star_T_train = L_star[:X_train.shape[0]]\n",
    "\n",
    "    A_star_T_weak = A_star[X_train.shape[0]:X_train.shape[0]+X_weak.shape[0]]\n",
    "    L_star_T_weak = L_star[X_train.shape[0]:X_train.shape[0]+X_weak.shape[0]]\n",
    "\n",
    "    A_star_T_test = A_star[X_train.shape[0]+X_weak.shape[0]:]\n",
    "    L_star_T_test = L_star[X_train.shape[0]+X_weak.shape[0]:]\n",
    "\n",
    "    results[\"Time\"][\"Truncated SVD\"].append(truncated_svd_time)\n",
    "    results[\"Accuracy\"][\"Truncated SVD\"][\"Train\"].append(get_Wasserstain(A_train, L_train, A_star_T_train, L_star_T_train))\n",
    "    results[\"Accuracy\"][\"Truncated SVD\"][\"Weak\"].append(get_Wasserstain(A_weak, L_weak, A_star_T_weak, L_star_T_weak))\n",
    "    results[\"Accuracy\"][\"Truncated SVD\"][\"Test\"].append(get_Wasserstain(A_test, L_test, A_star_T_test, L_star_T_test))\n",
    "    results[\"Distance to W\"][\"Truncated SVD\"].append(np.linalg.norm(W - C_1_T_svd@C_2_T_svd))\n",
    "\n",
    "    ### Random SVD\n",
    "    start_time = time.time()\n",
    "    u, s, vt = randomized_svd(W, n_components=r, random_state=cfg[\"random_state\"])\n",
    "    C_1_R_svd, C_2_R_svd = u, np.diag(s)@vt\n",
    "    A_star, L_star = solve_sparse(D, C_1_R_svd, C_2_R_svd, B_full, Y_full, L_full, gamma=cfg[\"gamma\"])\n",
    "    random_svd_time = time.time() - start_time\n",
    "\n",
    "    A_star_R_train = A_star[:X_train.shape[0]]\n",
    "    L_star_R_train = L_star[:X_train.shape[0]]\n",
    "\n",
    "    A_star_R_weak = A_star[X_train.shape[0]:X_train.shape[0]+X_weak.shape[0]]\n",
    "    L_star_R_weak = L_star[X_train.shape[0]:X_train.shape[0]+X_weak.shape[0]]\n",
    "\n",
    "    A_star_R_test = A_star[X_train.shape[0]+X_weak.shape[0]:]\n",
    "    L_star_R_test = L_star[X_train.shape[0]+X_weak.shape[0]:]\n",
    "\n",
    "    results[\"Time\"][\"Randomized SVD\"].append(random_svd_time)\n",
    "    results[\"Accuracy\"][\"Randomized SVD\"][\"Train\"].append(get_Wasserstain(A_train, L_train, A_star_R_train, L_star_R_train))\n",
    "    results[\"Accuracy\"][\"Randomized SVD\"][\"Weak\"].append(get_Wasserstain(A_weak, L_weak, A_star_R_weak, L_star_R_weak))\n",
    "    results[\"Accuracy\"][\"Randomized SVD\"][\"Test\"].append(get_Wasserstain(A_test, L_test, A_star_R_test, L_star_R_test))\n",
    "    results[\"Distance to W\"][\"Randomized SVD\"].append(np.linalg.norm(W - C_1_R_svd@C_2_R_svd))\n"
   ]
  },
  {
   "cell_type": "code",
   "execution_count": 54,
   "id": "1284c08a",
   "metadata": {},
   "outputs": [
    {
     "data": {
      "image/png": "[encoded data removed]",
      "text/plain": [
       "<Figure size 1080x720 with 5 Axes>"
      ]
     },
     "metadata": {
      "needs_background": "light"
     },
     "output_type": "display_data"
    }
   ],
   "source": [
    "xticks = list(range(50, 1000, 50))\n",
    "fig, axs = plt.subplots(ncols=6, nrows=2, figsize=(15, 10))\n",
    "gs = axs[0, 0].get_gridspec()\n",
    "for ax in axs.flatten():\n",
    "    ax.remove()\n",
    "\n",
    "ax00 = fig.add_subplot(gs[0, 0:3])\n",
    "ax00.set_title(\"Time\")\n",
    "for key, item in results[\"Time\"].items():\n",
    "    ax00.plot(xticks, item, label=key)\n",
    "ax00.legend()\n",
    "ax00.set_ylabel(\"Seconds\")\n",
    "ax00.set_xlabel(\"Rank of sparse representation\")\n",
    "ax00.set_xticks(xticks)\n",
    "\n",
    "ax01 = fig.add_subplot(gs[0, 3:])\n",
    "ax01.set_title(\"Distance to W\")\n",
    "for key, item in results[\"Distance to W\"].items():\n",
    "    linestyle = (0, (5, 10)) if key == \"Randomized SVD\" else None\n",
    "    ax01.plot(xticks, item, label=key, linestyle=linestyle)\n",
    "ax01.legend()\n",
    "ax01.set_ylabel(\"Frobenious norm between W and Approximation\")\n",
    "ax01.set_xlabel(\"Rank of sparse representation\")\n",
    "ax01.set_xticks(xticks)\n",
    "\n",
    "ax11 = fig.add_subplot(gs[1, 0:2])\n",
    "ax11.set_title(\"Train\")\n",
    "ax11.set_ylabel(\"Mean Wasserstain Distance\")\n",
    "ax11.set_xlabel(\"Rank of sparse representation\")\n",
    "\n",
    "ax12 = fig.add_subplot(gs[1, 2:4])\n",
    "ax12.set_title(\"Weak\")\n",
    "ax12.set_ylabel(\"Mean Wasserstain Distance\")\n",
    "ax12.set_xlabel(\"Rank of sparse representation\")\n",
    "\n",
    "ax13 = fig.add_subplot(gs[1, 4:6])\n",
    "ax13.set_title(\"Test\")\n",
    "ax13.set_ylabel(\"Mean Wasserstain Distance\")\n",
    "ax13.set_xlabel(\"Rank of sparse representation\")\n",
    "\n",
    "for key, item in results[\"Accuracy\"].items():\n",
    "    linestyle = (0, (5, 10)) if key == \"Randomized SVD\" else None\n",
    "    ax11.plot(xticks, item[\"Train\"], label=key, linestyle=linestyle)\n",
    "    ax12.plot(xticks, item[\"Weak\"], label=key, linestyle=linestyle)\n",
    "    ax13.plot(xticks, item[\"Test\"], label=key, linestyle=linestyle)\n",
    "    \n",
    "ax11.set_xticks(xticks[::2])\n",
    "ax12.set_xticks(xticks[::2])\n",
    "ax13.set_xticks(xticks[::2])\n",
    "\n",
    "ax11.legend()\n",
    "ax12.legend()\n",
    "ax13.legend()\n",
    "\n",
    "fig.tight_layout()\n",
    "\n",
    "plt.show()"
   ]
  }
 ],
 "metadata": {
  "kernelspec": {
   "display_name": "Python 3 (ipykernel)",
   "language": "python",
   "name": "python3"
  },
  "language_info": {
   "codemirror_mode": {
    "name": "ipython",
    "version": 3
   },
   "file_extension": ".py",
   "mimetype": "text/x-python",
   "name": "python",
   "nbconvert_exporter": "python",
   "pygments_lexer": "ipython3",
   "version": "3.9.7"
  }
 },
 "nbformat": 4,
 "nbformat_minor": 5
}
