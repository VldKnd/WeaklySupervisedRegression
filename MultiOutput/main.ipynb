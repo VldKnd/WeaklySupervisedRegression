{
 "cells": [
  {
   "cell_type": "code",
   "execution_count": 162,
   "metadata": {},
   "outputs": [],
   "source": [
    "import numpy as np\n",
    "from tqdm import tqdm\n",
    "from src.data import *\n",
    "from src.utils import *\n",
    "from src.main import *\n",
    "\n",
    "import matplotlib.pyplot as plt\n",
    "from sklearn.cluster import k_means"
   ]
  },
  {
   "cell_type": "code",
   "execution_count": 163,
   "metadata": {},
   "outputs": [],
   "source": [
    "from sklearn.cluster import KMeans\n",
    "from sklearn.metrics.pairwise import rbf_kernel\n",
    "from sklearn.model_selection import train_test_split"
   ]
  },
  {
   "cell_type": "code",
   "execution_count": 227,
   "metadata": {},
   "outputs": [],
   "source": [
    "cfg_weak = {\n",
    "    \"size\":1000,\n",
    "    \"weak_size\":0.3,\n",
    "    \"beta\":0.01,\n",
    "    \"gamma\":0.01,\n",
    "    \"n_features\":10,\n",
    "    \"n_clusters\":3,\n",
    "    \"n_components_x\":3,\n",
    "    \"n_components_y\":4,\n",
    "    \"n_outputs_y\":4,\n",
    "    \"noise_level_y\":0.6,\n",
    "    \"repetitions\":30,\n",
    "}"
   ]
  },
  {
   "cell_type": "code",
   "execution_count": 228,
   "metadata": {},
   "outputs": [
    {
     "name": "stderr",
     "output_type": "stream",
     "text": [
      "Mean Train 1.930, Mean Weak 1.118: 100% 30/30 [00:27<00:00,  1.11it/s]\n"
     ]
    }
   ],
   "source": [
    "tests_gaussian_singleoutput = {\n",
    "    \"weak\":[],\n",
    "    \"train\":[],\n",
    "}\n",
    "\n",
    "idxes_L_diag = []\n",
    "k = 0\n",
    "for i in range(2, cfg_weak[\"n_outputs_y\"]+2):\n",
    "    idxes_L_diag.append(k)\n",
    "    k+=i\n",
    "    \n",
    "dictionary = tests_gaussian_singleoutput\n",
    "for i in (pbar := tqdm(range(cfg_weak[\"repetitions\"]))):\n",
    "    means = np.concatenate([\n",
    "                np.arange(cfg_weak[\"n_features\"])[None, :] + 8*i\n",
    "                for i in range(cfg_weak[\"n_components_x\"])\n",
    "            ])\n",
    "\n",
    "    X, Y, A, L = make_monte_carlo(means,\n",
    "                                  componenets_y=cfg_weak[\"n_components_y\"],\n",
    "                                  n_y=cfg_weak[\"n_outputs_y\"],\n",
    "                                  y_noise_level=cfg_weak[\"noise_level_y\"]\n",
    "                                 )\n",
    "\n",
    "    X_train, X_weak, Y_train, Y_weak, A_train, A_weak, L_train, L_weak = train_test_split(X, Y, A, L, test_size=cfg_weak[\"weak_size\"])\n",
    "    X_full = np.concatenate([X_train, X_weak])\n",
    "    Y_full = np.concatenate([Y_train, np.zeros_like(Y_weak)])\n",
    "    A_full = np.concatenate([A_train, np.zeros_like(A_weak)])\n",
    "    L_full = np.concatenate([L_train, np.zeros_like(L_weak)])\n",
    "    B_full = np.diag(np.concatenate([np.ones(X_train.shape[0])*beta + 1, np.ones(X_weak.shape[0])*beta]))\n",
    "    W = get_W_gaussian(X_full, normalize_W=True)\n",
    "\n",
    "    L_full = L_full[:, idxes_L_diag]\n",
    "    A_star, L_star = solve(W, B_full, Y_full, L_full)\n",
    "    A_star_train, A_star_weak = A_star[:X_train.shape[0]], A_star[X_train.shape[0]:]\n",
    "    L_star_train, L_star_weak = L_star[:X_train.shape[0]], L_star[X_train.shape[0]:]\n",
    "\n",
    "    L_star_single_weak = np.zeros_like(L_weak)\n",
    "    L_star_single_weak[:, idxes_L_diag] = L_star_weak\n",
    "    L_star_single_train = np.zeros_like(L_train)\n",
    "    L_star_single_train[:, idxes_L_diag] = L_star_train\n",
    "    dictionary[\"weak\"].append(get_Wasserstain(A_weak, L_weak, A_star_weak, L_star_single_weak))\n",
    "    dictionary[\"train\"].append(get_Wasserstain(A_train, L_train, A_star_train, L_star_single_train))\n",
    "    pbar.set_description(\"Mean Train {:.3f}, Mean Weak {:.3f}\".format(\n",
    "        sum(dictionary[\"train\"])/len(dictionary[\"train\"]),\n",
    "        sum(dictionary[\"weak\"])/len(dictionary[\"weak\"]),\n",
    "    ))  \n",
    "    \n",
    "tests_gaussian_singleoutput = dictionary"
   ]
  },
  {
   "cell_type": "code",
   "execution_count": 229,
   "metadata": {},
   "outputs": [
    {
     "name": "stderr",
     "output_type": "stream",
     "text": [
      "Mean Train 1.928, Mean Weak 0.790: 100% 30/30 [06:45<00:00, 13.53s/it]\n"
     ]
    }
   ],
   "source": [
    "tests_kmeans_singleoutput = {\n",
    "    \"weak\":[],\n",
    "    \"train\":[],\n",
    "}\n",
    "\n",
    "idxes_L_diag = []\n",
    "k = 0\n",
    "for i in range(2, cfg_weak[\"n_outputs_y\"]+2):\n",
    "    idxes_L_diag.append(k)\n",
    "    k+=i\n",
    "    \n",
    "dictionary = tests_kmeans_singleoutput\n",
    "for i in (pbar := tqdm(range(cfg_weak[\"repetitions\"]))):\n",
    "    means = np.concatenate([\n",
    "                np.arange(cfg_weak[\"n_features\"])[None, :] + 8*i\n",
    "                for i in range(cfg_weak[\"n_components_x\"])\n",
    "            ])\n",
    "\n",
    "    X, Y, A, L = make_monte_carlo(means,\n",
    "                                  componenets_y=cfg_weak[\"n_components_y\"],\n",
    "                                  n_y=cfg_weak[\"n_outputs_y\"],\n",
    "                                  y_noise_level=cfg_weak[\"noise_level_y\"]\n",
    "                                 )\n",
    "\n",
    "    X_train, X_weak, Y_train, Y_weak, A_train, A_weak, L_train, L_weak = train_test_split(X, Y, A, L, test_size=cfg_weak[\"weak_size\"])\n",
    "    X_full = np.concatenate([X_train, X_weak])\n",
    "    Y_full = np.concatenate([Y_train, np.zeros_like(Y_weak)])\n",
    "    A_full = np.concatenate([A_train, np.zeros_like(A_weak)])\n",
    "    L_full = np.concatenate([L_train, np.zeros_like(L_weak)])\n",
    "    B_full = np.diag(np.concatenate([np.ones(X_train.shape[0])*beta + 1, np.ones(X_weak.shape[0])*beta]))\n",
    "    W = get_W_k_means(X_full, n_clusters=cfg_weak[\"n_clusters\"], normalize_W=True)\n",
    "\n",
    "    L_full = L_full[:, idxes_L_diag]\n",
    "    A_star, L_star = solve(W, B_full, Y_full, L_full)\n",
    "    A_star_train, A_star_weak = A_star[:X_train.shape[0]], A_star[X_train.shape[0]:]\n",
    "    L_star_train, L_star_weak = L_star[:X_train.shape[0]], L_star[X_train.shape[0]:]\n",
    "\n",
    "    L_star_single_weak = np.zeros_like(L_weak)\n",
    "    L_star_single_weak[:, idxes_L_diag] = L_star_weak\n",
    "    L_star_single_train = np.zeros_like(L_train)\n",
    "    L_star_single_train[:, idxes_L_diag] = L_star_train\n",
    "    dictionary[\"weak\"].append(get_Wasserstain(A_weak, L_weak, A_star_weak, L_star_single_weak))\n",
    "    dictionary[\"train\"].append(get_Wasserstain(A_train, L_train, A_star_train, L_star_single_train))\n",
    "    pbar.set_description(\"Mean Train {:.3f}, Mean Weak {:.3f}\".format(\n",
    "        sum(dictionary[\"train\"])/len(dictionary[\"train\"]),\n",
    "        sum(dictionary[\"weak\"])/len(dictionary[\"weak\"]),\n",
    "    ))  \n",
    "    \n",
    "tests_kmeans_singleoutput = dictionary"
   ]
  },
  {
   "cell_type": "code",
   "execution_count": 230,
   "metadata": {},
   "outputs": [
    {
     "name": "stderr",
     "output_type": "stream",
     "text": [
      "Mean Train 1.187, Mean Weak 0.107: 100% 30/30 [06:44<00:00, 13.49s/it]\n"
     ]
    }
   ],
   "source": [
    "tests_kmeans_multioutput = {\n",
    "    \"weak\":[],\n",
    "    \"train\":[],\n",
    "}\n",
    "\n",
    "dictionary = tests_kmeans_multioutput\n",
    "for i in (pbar := tqdm(range(cfg_weak[\"repetitions\"]))):\n",
    "    means = np.concatenate([\n",
    "                np.arange(cfg_weak[\"n_features\"])[None, :] + 8*i\n",
    "                for i in range(cfg_weak[\"n_components_x\"])\n",
    "            ])\n",
    "\n",
    "    X, Y, A, L = make_monte_carlo(means,\n",
    "                                  componenets_y=cfg_weak[\"n_components_y\"],\n",
    "                                  n_y=cfg_weak[\"n_outputs_y\"],\n",
    "                                  y_noise_level=cfg_weak[\"noise_level_y\"]\n",
    "                                 )\n",
    "    X_train, X_weak, Y_train, Y_weak, A_train, A_weak, L_train, L_weak = train_test_split(X, Y, A, L, test_size=cfg_weak[\"weak_size\"])\n",
    "    X_full = np.concatenate([X_train, X_weak])\n",
    "    Y_full = np.concatenate([Y_train, np.zeros_like(Y_weak)])\n",
    "    A_full = np.concatenate([A_train, np.zeros_like(A_weak)])\n",
    "    L_full = np.concatenate([L_train, np.zeros_like(L_weak)])\n",
    "    B_full = np.diag(np.concatenate([np.ones(X_train.shape[0])*beta + 1, np.ones(X_weak.shape[0])*beta]))\n",
    "    W = get_W_k_means(X_full, n_clusters=cfg_weak[\"n_clusters\"], normalize_W=True)\n",
    "    \n",
    "    A_star, L_star = solve(W, B_full, Y_full, L_full)\n",
    "    A_star_train, A_star_weak = A_star[:X_train.shape[0]], A_star[X_train.shape[0]:]\n",
    "    L_star_train, L_star_weak = L_star[:X_train.shape[0]], L_star[X_train.shape[0]:]\n",
    "    \n",
    "    dictionary[\"weak\"].append(get_Wasserstain(A_weak, L_weak, A_star_weak, L_star_weak))\n",
    "    dictionary[\"train\"].append(get_Wasserstain(A_train, L_train, A_star_train, L_star_train))\n",
    "    pbar.set_description(\"Mean Train {:.3f}, Mean Weak {:.3f}\".format(\n",
    "        sum(dictionary[\"train\"])/len(dictionary[\"train\"]),\n",
    "        sum(dictionary[\"weak\"])/len(dictionary[\"weak\"]),\n",
    "    ))\n",
    "    \n",
    "tests_kmeans_multioutput = dictionary"
   ]
  },
  {
   "cell_type": "code",
   "execution_count": 234,
   "metadata": {},
   "outputs": [
    {
     "name": "stderr",
     "output_type": "stream",
     "text": [
      "100% 30/30 [00:28<00:00,  1.04it/s]\n"
     ]
    }
   ],
   "source": [
    "tests_gaussian_multioutput = {\n",
    "        \"weak\":[],\n",
    "        \"train\":[],\n",
    "    }\n",
    "\n",
    "dictionary = tests_gaussian_multioutput\n",
    "for i in (pbar := tqdm(range(cfg_weak[\"repetitions\"]))):\n",
    "    means = np.concatenate([\n",
    "                np.arange(cfg_weak[\"n_features\"])[None, :] + 8*i\n",
    "                for i in range(cfg_weak[\"n_components_x\"])\n",
    "            ])\n",
    "\n",
    "    X, Y, A, L = make_monte_carlo(means,\n",
    "                                  componenets_y=cfg_weak[\"n_components_y\"],\n",
    "                                  n_y=cfg_weak[\"n_outputs_y\"],\n",
    "                                  y_noise_level=cfg_weak[\"noise_level_y\"]\n",
    "                                 )\n",
    "    X_train, X_weak, Y_train, Y_weak, A_train, A_weak, L_train, L_weak = train_test_split(X, Y, A, L, test_size=cfg_weak[\"weak_size\"])\n",
    "    X_full = np.concatenate([X_train, X_weak])\n",
    "    Y_full = np.concatenate([Y_train, np.zeros_like(Y_weak)])\n",
    "    A_full = np.concatenate([A_train, np.zeros_like(A_weak)])\n",
    "    L_full = np.concatenate([L_train, np.zeros_like(L_weak)])\n",
    "    B_full = np.diag(np.concatenate([np.ones(X_train.shape[0])*beta + 1, np.ones(X_weak.shape[0])*beta]))\n",
    "    W = get_W_gaussian(X_full, normalize_W=True)\n",
    "    \n",
    "    A_star, L_star = solve(W, B_full, Y_full, L_full)\n",
    "    A_star_train, A_star_weak = A_star[:X_train.shape[0]], A_star[X_train.shape[0]:]\n",
    "    L_star_train, L_star_weak = L_star[:X_train.shape[0]], L_star[X_train.shape[0]:]\n",
    "    \n",
    "    dictionary[\"weak\"].append(get_Wasserstain(A_weak, L_weak, A_star_weak, L_star_weak))\n",
    "    dictionary[\"train\"].append(get_Wasserstain(A_train, L_train, A_star_train, L_star_train))\n",
    "    pbar.set_description(\"Mean Train {:.3f}, Mean Weak {:.3f}\".format(\n",
    "        sum(dictionary[\"train\"])/len(dictionary[\"train\"]),\n",
    "        sum(dictionary[\"weak\"])/len(dictionary[\"weak\"]),\n",
    "    ))\n",
    "    \n",
    "tests_gaussian_multioutput = dictionary"
   ]
  },
  {
   "cell_type": "code",
   "execution_count": 233,
   "metadata": {},
   "outputs": [
    {
     "data": {
      "image/png": "[encoded data removed]",
      "text/plain": [
       "<Figure size 1080x504 with 2 Axes>"
      ]
     },
     "metadata": {
      "needs_background": "light"
     },
     "output_type": "display_data"
    }
   ],
   "source": [
    "plt.figure(figsize=(15, 7))\n",
    "plt.suptitle('Results after 50 random simulations')\n",
    "ax1 = plt.subplot(121)\n",
    "ax1.set_title(\"Train\")\n",
    "ax1.boxplot([x[\"train\"] for x in [tests_kmeans_singleoutput, tests_gaussian_singleoutput, tests_kmeans_multioutput, tests_gaussian_multioutput]],\n",
    "           labels=[\"Not correalted\\nKmeans Clustering \\n3 clusters \", \"Gaussian not correalted\", \"Kmeans Clustering 3 clusters\", \"Gaussian\"])\n",
    "\n",
    "ax2 = plt.subplot(122)\n",
    "ax2.set_title(\"Test\")\n",
    "ax2.boxplot([x[\"weak\"] for x in [tests_kmeans_singleoutput, tests_gaussian_singleoutput, tests_kmeans_multioutput, tests_gaussian_multioutput]],\n",
    "           labels=[\"Kmeans Clustering 3 clusters not correalted\", \"Gaussian not correalted\", \"Kmeans Clustering 3 clusters\", \"Gaussian\"])\n",
    "\n",
    "plt.show()"
   ]
  }
 ],
 "metadata": {
  "kernelspec": {
   "display_name": "my_39",
   "language": "python",
   "name": "myenv"
  },
  "language_info": {
   "codemirror_mode": {
    "name": "ipython",
    "version": 3
   },
   "file_extension": ".py",
   "mimetype": "text/x-python",
   "name": "python",
   "nbconvert_exporter": "python",
   "pygments_lexer": "ipython3",
   "version": "3.9.7"
  }
 },
 "nbformat": 4,
 "nbformat_minor": 4
}
