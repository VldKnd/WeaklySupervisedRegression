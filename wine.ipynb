{
 "cells": [
  {
   "cell_type": "code",
   "execution_count": 81,
   "metadata": {},
   "outputs": [],
   "source": [
    "import sys\n",
    "import os\n",
    "\n",
    "import numpy as np \n",
    "import pandas as pd\n",
    "import matplotlib.pyplot as plt\n",
    "\n",
    "from src.model import *\n",
    "from src.dataset import MyDataset, WeakDataset\n",
    "from sklearn.datasets import make_regression\n",
    "from sklearn.model_selection import train_test_split\n",
    "from sklearn.preprocessing import OneHotEncoder, StandardScaler\n",
    "\n",
    "import torch\n",
    "from torch.optim import Adam\n",
    "from torch.utils.data import DataLoader, Dataset\n",
    "\n",
    "from tqdm import tqdm\n",
    "from IPython.display import clear_output\n",
    "\n",
    "from sklearn.linear_model import LinearRegression\n",
    "\n",
    "from src.utils import (\n",
    "    set_seed,\n",
    "    root_dir,\n",
    "    save_ckpt,\n",
    "    load_ckpt,\n",
    "    log_meters,\n",
    "    plot_losses,\n",
    "    reset_meters,\n",
    "    create_meters,\n",
    "    print_cfg_info,\n",
    "    load_data_scaler,\n",
    ")\n",
    "\n",
    "class Wasserstein():\n",
    "    \n",
    "    def __init__(self, eps, device=torch.device(\"cpu\")):\n",
    "        self.eps = eps\n",
    "        self.device = device\n",
    "        \n",
    "    def forward(self, a, b, C, n_iter=100):\n",
    "        K = torch.exp(-C/self.eps)\n",
    "        v = torch.ones(b.shape[0], device=self.device)\n",
    "        for _ in range(n_iter):\n",
    "            u = a / (K@v)\n",
    "            v = b / (K.T@u)\n",
    "            \n",
    "        return ((torch.diag(u)@K)@torch.diag(v))\n",
    "        \n",
    "    def __call__(self, a, b, C, n_iter=100):\n",
    "        return self.forward(a, b, C, n_iter)"
   ]
  },
  {
   "cell_type": "code",
   "execution_count": 82,
   "metadata": {},
   "outputs": [],
   "source": [
    "cfg = {\n",
    "    \"z_dim\": 256,\n",
    "    \"gen_dims\": [128, 32, 8, 4],\n",
    "    \"disc_dims\": [4, 128, 32, 8],\n",
    "    \"num_epochs\": 1000,\n",
    "    \"batch_size\": 200,\n",
    "    \"w_gp\": 10,\n",
    "    \"w_eps\": 1e-3,\n",
    "    \"w_weak\":1e-3,\n",
    "    \"display_freq\": 10,\n",
    "    \"schedule_freq\": 2500,\n",
    "    \"seed\": 5051,\n",
    "    \"device\": torch.device(\"cuda\") if torch.cuda.is_available() else torch.device(\"cpu\"),\n",
    "    \"from_epoch\": 2,\n",
    "    \"iter_d\":1,\n",
    "}\n",
    "\n",
    "cgf_model = {\n",
    "    \n",
    "}\n",
    "\n",
    "cfg_dataset = {\n",
    "    'n_samples_train':25,\n",
    "    'n_samples_weak':975,\n",
    "    'n_samples_test':1000,\n",
    "}\n",
    "\n",
    "cfg_make_reg = {\n",
    "    'n_samples':cfg_dataset['n_samples_train']\\\n",
    "                +cfg_dataset['n_samples_weak']\\\n",
    "                +cfg_dataset['n_samples_test'],\n",
    "    'n_features':20,\n",
    "    'n_informative':20,\n",
    "    'n_targets':2,\n",
    "    'shuffle':False,\n",
    "    \"noise\":0,\n",
    "}\n",
    "\n",
    "cfg_loader = {  \n",
    "    \"batch_size\":cfg[\"batch_size\"],\n",
    "    \"drop_last\":False,\n",
    "}"
   ]
  },
  {
   "cell_type": "code",
   "execution_count": 31,
   "metadata": {},
   "outputs": [],
   "source": [
    "data = pd.read_csv(\"data/winequality-white.csv\", sep=\";\")"
   ]
  },
  {
   "cell_type": "code",
   "execution_count": 83,
   "metadata": {},
   "outputs": [
    {
     "data": {
      "text/html": [
       "<div>\n",
       "<style scoped>\n",
       "    .dataframe tbody tr th:only-of-type {\n",
       "        vertical-align: middle;\n",
       "    }\n",
       "\n",
       "    .dataframe tbody tr th {\n",
       "        vertical-align: top;\n",
       "    }\n",
       "\n",
       "    .dataframe thead th {\n",
       "        text-align: right;\n",
       "    }\n",
       "</style>\n",
       "<table border=\"1\" class=\"dataframe\">\n",
       "  <thead>\n",
       "    <tr style=\"text-align: right;\">\n",
       "      <th></th>\n",
       "      <th>fixed acidity</th>\n",
       "      <th>volatile acidity</th>\n",
       "      <th>citric acid</th>\n",
       "      <th>residual sugar</th>\n",
       "      <th>chlorides</th>\n",
       "      <th>free sulfur dioxide</th>\n",
       "      <th>total sulfur dioxide</th>\n",
       "      <th>density</th>\n",
       "      <th>pH</th>\n",
       "      <th>sulphates</th>\n",
       "      <th>alcohol</th>\n",
       "      <th>quality</th>\n",
       "    </tr>\n",
       "  </thead>\n",
       "  <tbody>\n",
       "    <tr>\n",
       "      <th>0</th>\n",
       "      <td>7.0</td>\n",
       "      <td>0.27</td>\n",
       "      <td>0.36</td>\n",
       "      <td>20.7</td>\n",
       "      <td>0.045</td>\n",
       "      <td>45.0</td>\n",
       "      <td>170.0</td>\n",
       "      <td>1.0010</td>\n",
       "      <td>3.00</td>\n",
       "      <td>0.45</td>\n",
       "      <td>8.8</td>\n",
       "      <td>6</td>\n",
       "    </tr>\n",
       "    <tr>\n",
       "      <th>1</th>\n",
       "      <td>6.3</td>\n",
       "      <td>0.30</td>\n",
       "      <td>0.34</td>\n",
       "      <td>1.6</td>\n",
       "      <td>0.049</td>\n",
       "      <td>14.0</td>\n",
       "      <td>132.0</td>\n",
       "      <td>0.9940</td>\n",
       "      <td>3.30</td>\n",
       "      <td>0.49</td>\n",
       "      <td>9.5</td>\n",
       "      <td>6</td>\n",
       "    </tr>\n",
       "    <tr>\n",
       "      <th>2</th>\n",
       "      <td>8.1</td>\n",
       "      <td>0.28</td>\n",
       "      <td>0.40</td>\n",
       "      <td>6.9</td>\n",
       "      <td>0.050</td>\n",
       "      <td>30.0</td>\n",
       "      <td>97.0</td>\n",
       "      <td>0.9951</td>\n",
       "      <td>3.26</td>\n",
       "      <td>0.44</td>\n",
       "      <td>10.1</td>\n",
       "      <td>6</td>\n",
       "    </tr>\n",
       "    <tr>\n",
       "      <th>3</th>\n",
       "      <td>7.2</td>\n",
       "      <td>0.23</td>\n",
       "      <td>0.32</td>\n",
       "      <td>8.5</td>\n",
       "      <td>0.058</td>\n",
       "      <td>47.0</td>\n",
       "      <td>186.0</td>\n",
       "      <td>0.9956</td>\n",
       "      <td>3.19</td>\n",
       "      <td>0.40</td>\n",
       "      <td>9.9</td>\n",
       "      <td>6</td>\n",
       "    </tr>\n",
       "    <tr>\n",
       "      <th>4</th>\n",
       "      <td>7.2</td>\n",
       "      <td>0.23</td>\n",
       "      <td>0.32</td>\n",
       "      <td>8.5</td>\n",
       "      <td>0.058</td>\n",
       "      <td>47.0</td>\n",
       "      <td>186.0</td>\n",
       "      <td>0.9956</td>\n",
       "      <td>3.19</td>\n",
       "      <td>0.40</td>\n",
       "      <td>9.9</td>\n",
       "      <td>6</td>\n",
       "    </tr>\n",
       "  </tbody>\n",
       "</table>\n",
       "</div>"
      ],
      "text/plain": [
       "   fixed acidity  volatile acidity  citric acid  residual sugar  chlorides  \\\n",
       "0            7.0              0.27         0.36            20.7      0.045   \n",
       "1            6.3              0.30         0.34             1.6      0.049   \n",
       "2            8.1              0.28         0.40             6.9      0.050   \n",
       "3            7.2              0.23         0.32             8.5      0.058   \n",
       "4            7.2              0.23         0.32             8.5      0.058   \n",
       "\n",
       "   free sulfur dioxide  total sulfur dioxide  density    pH  sulphates  \\\n",
       "0                 45.0                 170.0   1.0010  3.00       0.45   \n",
       "1                 14.0                 132.0   0.9940  3.30       0.49   \n",
       "2                 30.0                  97.0   0.9951  3.26       0.44   \n",
       "3                 47.0                 186.0   0.9956  3.19       0.40   \n",
       "4                 47.0                 186.0   0.9956  3.19       0.40   \n",
       "\n",
       "   alcohol  quality  \n",
       "0      8.8        6  \n",
       "1      9.5        6  \n",
       "2     10.1        6  \n",
       "3      9.9        6  \n",
       "4      9.9        6  "
      ]
     },
     "execution_count": 83,
     "metadata": {},
     "output_type": "execute_result"
    }
   ],
   "source": [
    "data.head()"
   ]
  },
  {
   "cell_type": "code",
   "execution_count": 84,
   "metadata": {},
   "outputs": [],
   "source": [
    "X, y = data.drop(\"alcohol\", axis=1), data[\"alcohol\"]\n",
    "X_train, X_test, y_train, y_test = train_test_split(X.to_numpy(), y.to_numpy()[:, None], test_size=0.25)\n",
    "\n",
    "scalerX = StandardScaler()\n",
    "scalerX.fit(X_train)\n",
    "\n",
    "scalerY = StandardScaler()\n",
    "scalerY.fit(y_train)\n",
    "\n",
    "X_train = scalerX.transform(X_train)\n",
    "X_test = scalerX.transform(X_test)\n",
    "y_train = scalerY.transform(y_train)\n",
    "y_test = scalerY.transform(y_test)\n",
    "\n",
    "X_train, X_weak, y_train, y_weak = train_test_split(X_train, y_train, test_size=0.6)\n",
    "\n",
    "X_train_torch = torch.Tensor(X_train).to(cfg[\"device\"])\n",
    "y_train_torch = torch.Tensor(y_train).to(cfg[\"device\"])\n",
    "X_weak_torch = torch.Tensor(X_weak).to(cfg[\"device\"])\n",
    "X_test_torch = torch.Tensor(X_test).to(cfg[\"device\"])\n",
    "y_test_torch = torch.Tensor(y_test).to(cfg[\"device\"])"
   ]
  },
  {
   "cell_type": "code",
   "execution_count": 85,
   "metadata": {},
   "outputs": [],
   "source": [
    "train_loader = MyDataset(X_train, y_train, batch_size=cfg[\"batch_size\"], device=cfg[\"device\"])\n",
    "test_loader = MyDataset(X_test, y_test, batch_size=cfg[\"batch_size\"], device=cfg[\"device\"])\n",
    "weak_loader = WeakDataset(X_weak, batch_size=cfg[\"batch_size\"], device=cfg[\"device\"])"
   ]
  },
  {
   "cell_type": "code",
   "execution_count": 86,
   "metadata": {},
   "outputs": [],
   "source": [
    "netR = nn.Sequential(\n",
    "    nn.Linear(X_train.shape[1], 16),\n",
    "    nn.ReLU(),\n",
    "    nn.Linear(16, y_train.shape[1]),\n",
    ").to(cfg[\"device\"])\n",
    "optimR = Adam(netR.parameters(), lr=1e-2)\n",
    "\n",
    "meter_names = ['L2_Loss_Train','L2_Loss_Test']\n",
    "meters = create_meters(meter_names)\n",
    "\n",
    "L2 = nn.MSELoss()"
   ]
  },
  {
   "cell_type": "code",
   "execution_count": 87,
   "metadata": {},
   "outputs": [
    {
     "data": {
      "image/png": "[encoded data removed]",
      "text/plain": [
       "<Figure size 1080x504 with 2 Axes>"
      ]
     },
     "metadata": {
      "needs_background": "light"
     },
     "output_type": "display_data"
    }
   ],
   "source": [
    "losses = [[], []]\n",
    "for e in range(cfg['num_epochs']):\n",
    "    for X_batch, y_batch in train_loader:\n",
    "        ### Regressor\n",
    "        optimR.zero_grad()\n",
    "        y_pred = netR(X_batch)\n",
    "        loss = L2(y_pred, y_batch)\n",
    "        loss.backward()\n",
    "        optimR.step()\n",
    "\n",
    "        meters[\"L2_Loss_Train\"].update(loss.item())\n",
    "\n",
    "\n",
    "    if not e % cfg[\"display_freq\"]:\n",
    "        clear_output(wait=True)\n",
    "        with torch.no_grad():\n",
    "            y_pred = netR(X_test_torch)\n",
    "            loss = L2(y_pred, y_test_torch).item()\n",
    "        y_weak = netR(weak_loader.sample())\n",
    "        meters[\"L2_Loss_Test\"].update(loss)\n",
    "        \n",
    "        losses[0].append(meters[\"L2_Loss_Train\"].avg)\n",
    "        losses[1].append(meters[\"L2_Loss_Test\"].avg)\n",
    "    \n",
    "        plt.figure(figsize=(15, 7))\n",
    "        ax1 = plt.subplot(121)\n",
    "        ax2 = plt.subplot(122)\n",
    "\n",
    "        ax1.set_title(\"L2\")\n",
    "        ax1.plot(losses[0], label=\"Train {:.3f}\".format(losses[0][-1]))\n",
    "        ax1.plot(losses[1], label=\"Test {:.3f}\".format(losses[1][-1]))\n",
    "        ax1.legend()\n",
    "        \n",
    "        ax2.hist(y_weak.cpu().detach().numpy(), label='Weak', fc=(0, 0, 1, 0.5), density=True)\n",
    "        ax2.hist(y_batch.cpu().detach().numpy(), label='Train',  fc=(1, 0, 1, 0.5), density=True)\n",
    "        ax2.legend()\n",
    "        plt.show()"
   ]
  },
  {
   "cell_type": "code",
   "execution_count": 88,
   "metadata": {},
   "outputs": [
    {
     "data": {
      "image/png": "[encoded data removed]",
      "text/plain": [
       "<Figure size 432x288 with 1 Axes>"
      ]
     },
     "metadata": {
      "needs_background": "light"
     },
     "output_type": "display_data"
    }
   ],
   "source": [
    "plt.hist(netR(X_test_torch).cpu().detach().numpy(), label='Test', fc=(0, 1, 0, 0.5), density=True)\n",
    "plt.hist(netR(X_weak_torch).cpu().detach().numpy(), label='Weak', fc=(0, 0, 1, 0.5), density=True)\n",
    "plt.hist(y_train, label='Train',  fc=(1, 0, 1, 0.5), density=True)\n",
    "plt.legend()\n",
    "plt.show()"
   ]
  },
  {
   "cell_type": "code",
   "execution_count": 89,
   "metadata": {},
   "outputs": [],
   "source": [
    "netR = nn.Sequential(\n",
    "    nn.Linear(X_train.shape[1], 16),\n",
    "    nn.ReLU(),\n",
    "    nn.Linear(16, y_train.shape[1]),\n",
    ").to(cfg[\"device\"])\n",
    "\n",
    "optimR = Adam(netR.parameters(), lr=1e-2)\n",
    "\n",
    "meter_names = ['L2_Loss_Train','L2_Loss_Test']\n",
    "meters = create_meters(meter_names)\n",
    "\n",
    "L2 = nn.MSELoss()\n",
    "W = Wasserstein(0.01, device=cfg[\"device\"])"
   ]
  },
  {
   "cell_type": "code",
   "execution_count": 90,
   "metadata": {},
   "outputs": [
    {
     "data": {
      "image/png": "[encoded data removed]",
      "text/plain": [
       "<Figure size 1080x504 with 2 Axes>"
      ]
     },
     "metadata": {
      "needs_background": "light"
     },
     "output_type": "display_data"
    }
   ],
   "source": [
    "losses = [[], []]\n",
    "for e in range(cfg['num_epochs']):\n",
    "    for X_batch, y_batch in train_loader:\n",
    "        ### Regressor\n",
    "        optimR.zero_grad()\n",
    "        X_batch_weak = weak_loader.sample()\n",
    "        y_weak = netR(X_batch_weak)\n",
    "        C = torch.cdist(y_batch, y_weak, p=2)\n",
    "        C_X = (torch.cdist(X_batch, X_batch_weak, p=2) + C)/2\n",
    "        with torch.no_grad():\n",
    "            a = torch.ones(y_batch.shape[0], device=cfg[\"device\"])/y_batch.shape[0]\n",
    "            b = torch.ones(y_weak.shape[0], device=cfg[\"device\"])/y_weak.shape[0]\n",
    "            P = W(a, b, C_X/C_X.max(), 100)\n",
    "            \n",
    "        y_pred = netR(X_batch)\n",
    "        \n",
    "        L2_loss = L2(y_pred, y_batch)\n",
    "        W_loss = (P*C).sum()\n",
    "        loss = W_loss + L2_loss\n",
    "        \n",
    "        loss.backward()\n",
    "        optimR.step()\n",
    "\n",
    "        meters[\"L2_Loss_Train\"].update(L2_loss.item())\n",
    "        \n",
    "    if not e % cfg[\"display_freq\"]:\n",
    "        clear_output(wait=True)\n",
    "        with torch.no_grad():\n",
    "            y_pred = netR(X_test_torch)\n",
    "            loss = L2(y_pred, y_test_torch).item()\n",
    "\n",
    "        meters[\"L2_Loss_Test\"].update(loss)\n",
    "        \n",
    "        losses[0].append(meters[\"L2_Loss_Train\"].avg)\n",
    "        losses[1].append(meters[\"L2_Loss_Test\"].avg)\n",
    "    \n",
    "        plt.figure(figsize=(15, 7))\n",
    "        ax1 = plt.subplot(121)\n",
    "        ax2 = plt.subplot(122)\n",
    "\n",
    "        ax1.set_title(\"L2\")\n",
    "        ax1.plot(losses[0], label=\"Train {:.3f}\".format(losses[0][-1]))\n",
    "        ax1.plot(losses[1], label=\"Test {:.3f}\".format(losses[1][-1]))\n",
    "        ax1.legend()\n",
    "        \n",
    "        ax2.set_title(\"Dist {:.3f}\".format(W_loss.item()))\n",
    "        ax2.hist(y_weak.cpu().detach().numpy(), label='Weak', fc=(0, 0, 1, 0.5), density=True)\n",
    "        ax2.hist(y_batch.cpu().detach().numpy(), label='Train',  fc=(1, 0, 1, 0.5), density=True)\n",
    "        ax2.legend()\n",
    "        plt.show()"
   ]
  },
  {
   "cell_type": "code",
   "execution_count": 91,
   "metadata": {},
   "outputs": [
    {
     "data": {
      "image/png": "[encoded data removed]",
      "text/plain": [
       "<Figure size 432x288 with 1 Axes>"
      ]
     },
     "metadata": {
      "needs_background": "light"
     },
     "output_type": "display_data"
    }
   ],
   "source": [
    "plt.hist(netR(X_test_torch).cpu().detach().numpy(), label='Test', fc=(0, 1, 0, 0.5), density=True)\n",
    "plt.hist(netR(X_weak_torch).cpu().detach().numpy(), label='Weak', fc=(0, 0, 1, 0.5), density=True)\n",
    "plt.hist(y_train, label='Train',  fc=(1, 0, 1, 0.5), density=True)\n",
    "plt.legend()\n",
    "plt.show()"
   ]
  },
  {
   "cell_type": "code",
   "execution_count": 119,
   "metadata": {},
   "outputs": [],
   "source": [
    "netR = nn.Sequential(\n",
    "    nn.Linear(X_train.shape[1], 16),\n",
    "    nn.ReLU(),\n",
    "    nn.Linear(16, y_train.shape[1]),\n",
    ").to(cfg[\"device\"])\n",
    "\n",
    "optimR = Adam(netR.parameters(), lr=1e-2)\n",
    "\n",
    "meter_names = ['L2_Loss_Train','L2_Loss_Test']\n",
    "meters = create_meters(meter_names)\n",
    "\n",
    "L2 = nn.MSELoss()\n",
    "W = Wasserstein(0.01, device=cfg[\"device\"])"
   ]
  },
  {
   "cell_type": "code",
   "execution_count": 120,
   "metadata": {},
   "outputs": [
    {
     "data": {
      "image/png": "[encoded data removed]",
      "text/plain": [
       "<Figure size 1080x504 with 2 Axes>"
      ]
     },
     "metadata": {
      "needs_background": "light"
     },
     "output_type": "display_data"
    }
   ],
   "source": [
    "losses = [[], []]\n",
    "for e in range(cfg['num_epochs']):\n",
    "    for X_batch, y_batch in train_loader:\n",
    "        ### Regressor\n",
    "        optimR.zero_grad()\n",
    "        X_batch_weak = weak_loader.sample()\n",
    "        y_weak = netR(X_batch_weak)\n",
    "        C = torch.cdist(y_batch, y_weak, p=2)\n",
    "        C_X = (torch.cdist(X_batch, X_batch_weak, p=2) + C)/2\n",
    "        with torch.no_grad():\n",
    "            a = torch.ones(y_batch.shape[0], device=cfg[\"device\"])/y_batch.shape[0]\n",
    "            b = torch.ones(y_weak.shape[0], device=cfg[\"device\"])/y_weak.shape[0]\n",
    "            P = W(a, b, C_X/C_X.max(), 20)\n",
    "            \n",
    "        y_pred = netR(X_batch)\n",
    "        \n",
    "        L2_loss = L2(y_pred, y_batch)\n",
    "        W_loss = 0.1*(P*C_X).sum()\n",
    "        loss = W_loss + L2_loss\n",
    "        \n",
    "        loss.backward()\n",
    "        optimR.step()\n",
    "\n",
    "        meters[\"L2_Loss_Train\"].update(L2_loss.item())\n",
    "        \n",
    "    if not e % cfg[\"display_freq\"]:\n",
    "        clear_output(wait=True)\n",
    "        with torch.no_grad():\n",
    "            y_pred = netR(X_test_torch)\n",
    "            loss = L2(y_pred, y_test_torch).item()\n",
    "\n",
    "        meters[\"L2_Loss_Test\"].update(loss)\n",
    "        \n",
    "        losses[0].append(meters[\"L2_Loss_Train\"].avg)\n",
    "        losses[1].append(meters[\"L2_Loss_Test\"].avg)\n",
    "    \n",
    "        plt.figure(figsize=(15, 7))\n",
    "        ax1 = plt.subplot(121)\n",
    "        ax2 = plt.subplot(122)\n",
    "\n",
    "        ax1.set_title(\"L2\")\n",
    "        ax1.plot(losses[0], label=\"Train {:.3f}\".format(losses[0][-1]))\n",
    "        ax1.plot(losses[1], label=\"Test {:.3f}\".format(losses[1][-1]))\n",
    "        ax1.legend()\n",
    "        \n",
    "        ax2.set_title(\"Dist {:.3f}\".format(W_loss.item()))\n",
    "        ax2.hist(y_weak.cpu().detach().numpy(), label='Weak', fc=(0, 0, 1, 0.5))\n",
    "        ax2.hist(y_batch.cpu().detach().numpy(), label='Train',  fc=(1, 0, 1, 0.5))\n",
    "        ax2.legend()\n",
    "        plt.show()"
   ]
  },
  {
   "cell_type": "code",
   "execution_count": 121,
   "metadata": {},
   "outputs": [
    {
     "data": {
      "image/png": "[encoded data removed]",
      "text/plain": [
       "<Figure size 432x288 with 1 Axes>"
      ]
     },
     "metadata": {
      "needs_background": "light"
     },
     "output_type": "display_data"
    }
   ],
   "source": [
    "plt.hist(netR(X_test_torch).cpu().detach().numpy(), label='Test', fc=(0, 1, 0, 0.5), density=True)\n",
    "plt.hist(netR(X_weak_torch).cpu().detach().numpy(), label='Weak', fc=(0, 0, 1, 0.5), density=True)\n",
    "plt.hist(y_train, label='Train',  fc=(1, 0, 1, 0.5), density=True)\n",
    "plt.legend()\n",
    "plt.show()"
   ]
  },
  {
   "cell_type": "code",
   "execution_count": 116,
   "metadata": {},
   "outputs": [],
   "source": [
    "netR = nn.Sequential(\n",
    "    nn.Linear(X_train.shape[1], 16),\n",
    "    nn.ReLU(),\n",
    "    nn.Linear(16, y_train.shape[1]),\n",
    ").to(cfg[\"device\"])\n",
    "\n",
    "optimR = Adam(netR.parameters(), lr=1e-2)\n",
    "\n",
    "meter_names = ['L2_Loss_Train','L2_Loss_Test']\n",
    "meters = create_meters(meter_names)\n",
    "\n",
    "L2 = nn.MSELoss()\n",
    "W = Wasserstein(0.01, device=cfg[\"device\"])"
   ]
  },
  {
   "cell_type": "code",
   "execution_count": 117,
   "metadata": {},
   "outputs": [
    {
     "data": {
      "image/png": "[encoded data removed]",
      "text/plain": [
       "<Figure size 1080x504 with 2 Axes>"
      ]
     },
     "metadata": {
      "needs_background": "light"
     },
     "output_type": "display_data"
    }
   ],
   "source": [
    "losses = [[], []]\n",
    "for e in range(cfg['num_epochs']):\n",
    "    for X_batch, y_batch in train_loader:\n",
    "        ### Regressor\n",
    "        optimR.zero_grad()\n",
    "        X_batch_weak = weak_loader.sample()\n",
    "        \n",
    "        y_pred = netR(X_batch)\n",
    "        y_weak = netR(X_batch_weak)\n",
    "        \n",
    "        joint_batch = torch.cat((X_batch, y_batch), axis=1)\n",
    "        joint_weak = torch.cat((X_batch_weak, y_weak), axis=1)\n",
    "        C_X = torch.cdist(joint_batch, joint_weak, p=2)\n",
    "        \n",
    "        with torch.no_grad():\n",
    "            a = torch.ones(joint_batch.shape[0], device=cfg[\"device\"])/joint_batch.shape[0]\n",
    "            b = torch.ones(joint_weak.shape[0], device=cfg[\"device\"])/joint_weak.shape[0]\n",
    "            P = W(a, b, C_X/C_X.max(), 20)\n",
    "            \n",
    "        L2_loss = L2(y_pred, y_batch)\n",
    "        W_loss = (P*C_X).sum()\n",
    "        loss = W_loss + L2_loss\n",
    "        \n",
    "        loss.backward()\n",
    "        optimR.step()\n",
    "\n",
    "        meters[\"L2_Loss_Train\"].update(L2_loss.item())\n",
    "        \n",
    "    if not e % cfg[\"display_freq\"]:\n",
    "        clear_output(wait=True)\n",
    "        with torch.no_grad():\n",
    "            y_pred = netR(X_test_torch)\n",
    "            loss = L2(y_pred, y_test_torch).item()\n",
    "\n",
    "        meters[\"L2_Loss_Test\"].update(loss)\n",
    "        \n",
    "        losses[0].append(meters[\"L2_Loss_Train\"].avg)\n",
    "        losses[1].append(meters[\"L2_Loss_Test\"].avg)\n",
    "    \n",
    "        plt.figure(figsize=(15, 7))\n",
    "        ax1 = plt.subplot(121)\n",
    "        ax2 = plt.subplot(122)\n",
    "\n",
    "        ax1.set_title(\"L2\")\n",
    "        ax1.plot(losses[0], label=\"Train {:.3f}\".format(losses[0][-1]))\n",
    "        ax1.plot(losses[1], label=\"Test {:.3f}\".format(losses[1][-1]))\n",
    "        ax1.legend()\n",
    "        \n",
    "        ax2.set_title(\"Dist {:.3f}\".format(W_loss.item()))\n",
    "        ax2.hist(y_weak.cpu().detach().numpy(), label='Weak', fc=(0, 0, 1, 0.5))\n",
    "        ax2.hist(y_batch.cpu().detach().numpy(), label='Train',  fc=(1, 0, 1, 0.5))\n",
    "        ax2.legend()\n",
    "        plt.show()"
   ]
  },
  {
   "cell_type": "code",
   "execution_count": 118,
   "metadata": {},
   "outputs": [
    {
     "data": {
      "image/png": "[encoded data removed]",
      "text/plain": [
       "<Figure size 432x288 with 1 Axes>"
      ]
     },
     "metadata": {
      "needs_background": "light"
     },
     "output_type": "display_data"
    }
   ],
   "source": [
    "plt.hist(netR(X_test_torch).cpu().detach().numpy(), label='Test', fc=(0, 1, 0, 0.5), density=True)\n",
    "plt.hist(netR(X_weak_torch).cpu().detach().numpy(), label='Weak', fc=(0, 0, 1, 0.5), density=True)\n",
    "plt.hist(y_train, label='Train',  fc=(1, 0, 1, 0.5), density=True)\n",
    "plt.legend()\n",
    "plt.show()"
   ]
  }
 ],
 "metadata": {
  "kernelspec": {
   "display_name": "my_39",
   "language": "python",
   "name": "myenv"
  },
  "language_info": {
   "codemirror_mode": {
    "name": "ipython",
    "version": 3
   },
   "file_extension": ".py",
   "mimetype": "text/x-python",
   "name": "python",
   "nbconvert_exporter": "python",
   "pygments_lexer": "ipython3",
   "version": "3.9.7"
  }
 },
 "nbformat": 4,
 "nbformat_minor": 4
}
