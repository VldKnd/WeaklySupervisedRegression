{
 "cells": [
  {
   "cell_type": "code",
   "execution_count": 9,
   "metadata": {},
   "outputs": [],
   "source": [
    "import scipy\n",
    "import numpy as np\n",
    "from tqdm import tqdm\n",
    "from src.data import *\n",
    "from src.utils import *\n",
    "from src.main import *\n",
    "\n",
    "import matplotlib.pyplot as plt\n",
    "from sklearn.cluster import k_means"
   ]
  },
  {
   "cell_type": "code",
   "execution_count": 10,
   "metadata": {},
   "outputs": [],
   "source": [
    "from sklearn.cluster import KMeans\n",
    "from sklearn.metrics.pairwise import rbf_kernel\n",
    "from sklearn.utils.extmath import randomized_svd\n",
    "from sklearn.model_selection import train_test_split"
   ]
  },
  {
   "cell_type": "code",
   "execution_count": 11,
   "metadata": {},
   "outputs": [],
   "source": [
    "cfg_weak = {\n",
    "    \"normalize\":False,\n",
    "    \"size\":1000,\n",
    "    \"weak_size\":0.3,\n",
    "    \"beta\":0.01,\n",
    "    \"gamma\":0.01,\n",
    "    \"n_features\":10,\n",
    "    \"n_clusters\":3,\n",
    "    \"n_components_x\":3,\n",
    "    \"n_components_y\":4,\n",
    "    \"n_outputs_y\":4,\n",
    "    \"noise_level_y\":0.6,\n",
    "    \"repetitions\":30,\n",
    "}"
   ]
  },
  {
   "cell_type": "code",
   "execution_count": 12,
   "metadata": {},
   "outputs": [
    {
     "name": "stderr",
     "output_type": "stream",
     "text": [
      "Mean Train 1.856, Mean Weak 19.123: 100%|███████| 30/30 [00:02<00:00, 11.84it/s]\n"
     ]
    }
   ],
   "source": [
    "tests_gaussian_singleoutput = {\n",
    "    \"weak\":[],\n",
    "    \"train\":[],\n",
    "}\n",
    "\n",
    "idxes_L_diag = []\n",
    "k = 0\n",
    "for i in range(2, cfg_weak[\"n_outputs_y\"]+2):\n",
    "    idxes_L_diag.append(k)\n",
    "    k+=i\n",
    "    \n",
    "dictionary = tests_gaussian_singleoutput\n",
    "for i in (pbar := tqdm(range(cfg_weak[\"repetitions\"]))):\n",
    "    means = np.concatenate([\n",
    "                np.arange(cfg_weak[\"n_features\"])[None, :] + 8*i\n",
    "                for i in range(cfg_weak[\"n_components_x\"])\n",
    "            ])\n",
    "\n",
    "    X, Y, A, L = make_monte_carlo(means,\n",
    "                                  componenets_y=cfg_weak[\"n_components_y\"],\n",
    "                                  n_y=cfg_weak[\"n_outputs_y\"],\n",
    "                                  y_noise_level=cfg_weak[\"noise_level_y\"]\n",
    "                                 )\n",
    "\n",
    "    X_train, X_weak, Y_train, Y_weak, A_train, A_weak, L_train, L_weak = train_test_split(X, Y, A, L, test_size=cfg_weak[\"weak_size\"])\n",
    "    X_full = np.concatenate([X_train, X_weak])\n",
    "    Y_full = np.concatenate([Y_train, np.zeros_like(Y_weak)])\n",
    "    A_full = np.concatenate([A_train, np.zeros_like(A_weak)])\n",
    "    L_full = np.concatenate([L_train, np.zeros_like(L_weak)])\n",
    "    B_full = np.diag(np.concatenate([np.ones(X_train.shape[0])*cfg_weak[\"beta\"] + 1, np.ones(X_weak.shape[0])*cfg_weak[\"beta\"]]))\n",
    "    W = get_W_gaussian(X_full, normalize_W=cfg_weak[\"normalize\"])\n",
    "\n",
    "    L_full = L_full[:, idxes_L_diag]\n",
    "    A_star, L_star = solve(W, B_full, Y_full, L_full)\n",
    "    A_star_train, A_star_weak = A_star[:X_train.shape[0]], A_star[X_train.shape[0]:]\n",
    "    L_star_train, L_star_weak = L_star[:X_train.shape[0]], L_star[X_train.shape[0]:]\n",
    "\n",
    "    L_star_single_weak = np.zeros_like(L_weak)\n",
    "    L_star_single_weak[:, idxes_L_diag] = L_star_weak\n",
    "    L_star_single_train = np.zeros_like(L_train)\n",
    "    L_star_single_train[:, idxes_L_diag] = L_star_train\n",
    "    dictionary[\"weak\"].append(get_Wasserstain(A_weak, L_weak, A_star_weak, L_star_single_weak))\n",
    "    dictionary[\"train\"].append(get_Wasserstain(A_train, L_train, A_star_train, L_star_single_train))\n",
    "    pbar.set_description(\"Mean Train {:.3f}, Mean Weak {:.3f}\".format(\n",
    "        sum(dictionary[\"train\"])/len(dictionary[\"train\"]),\n",
    "        sum(dictionary[\"weak\"])/len(dictionary[\"weak\"]),\n",
    "    ))  \n",
    "    \n",
    "tests_gaussian_singleoutput = dictionary"
   ]
  },
  {
   "cell_type": "code",
   "execution_count": 13,
   "metadata": {},
   "outputs": [
    {
     "name": "stderr",
     "output_type": "stream",
     "text": [
      "Mean Train 0.764, Mean Weak 0.752: 100%|████████| 30/30 [00:04<00:00,  6.54it/s]\n"
     ]
    }
   ],
   "source": [
    "tests_kmeans_singleoutput = {\n",
    "    \"weak\":[],\n",
    "    \"train\":[],\n",
    "}\n",
    "\n",
    "idxes_L_diag = []\n",
    "k = 0\n",
    "for i in range(2, cfg_weak[\"n_outputs_y\"]+2):\n",
    "    idxes_L_diag.append(k)\n",
    "    k+=i\n",
    "    \n",
    "dictionary = tests_kmeans_singleoutput\n",
    "for i in (pbar := tqdm(range(cfg_weak[\"repetitions\"]))):\n",
    "    means = np.concatenate([\n",
    "                np.arange(cfg_weak[\"n_features\"])[None, :] + 8*i\n",
    "                for i in range(cfg_weak[\"n_components_x\"])\n",
    "            ])\n",
    "\n",
    "    X, Y, A, L = make_monte_carlo(means,\n",
    "                                  componenets_y=cfg_weak[\"n_components_y\"],\n",
    "                                  n_y=cfg_weak[\"n_outputs_y\"],\n",
    "                                  y_noise_level=cfg_weak[\"noise_level_y\"]\n",
    "                                 )\n",
    "\n",
    "    X_train, X_weak, Y_train, Y_weak, A_train, A_weak, L_train, L_weak = train_test_split(X, Y, A, L, test_size=cfg_weak[\"weak_size\"])\n",
    "    X_full = np.concatenate([X_train, X_weak])\n",
    "    Y_full = np.concatenate([Y_train, np.zeros_like(Y_weak)])\n",
    "    A_full = np.concatenate([A_train, np.zeros_like(A_weak)])\n",
    "    L_full = np.concatenate([L_train, np.zeros_like(L_weak)])\n",
    "    B_full = np.diag(np.concatenate([np.ones(X_train.shape[0])*cfg_weak[\"beta\"] + 1, np.ones(X_weak.shape[0])*cfg_weak[\"beta\"]]))\n",
    "    W = get_W_k_means(X_full, n_clusters=cfg_weak[\"n_clusters\"], normalize_W=cfg_weak[\"normalize\"])\n",
    "\n",
    "    L_full = L_full[:, idxes_L_diag]\n",
    "    A_star, L_star = solve(W, B_full, Y_full, L_full)\n",
    "    A_star_train, A_star_weak = A_star[:X_train.shape[0]], A_star[X_train.shape[0]:]\n",
    "    L_star_train, L_star_weak = L_star[:X_train.shape[0]], L_star[X_train.shape[0]:]\n",
    "\n",
    "    L_star_single_weak = np.zeros_like(L_weak)\n",
    "    L_star_single_weak[:, idxes_L_diag] = L_star_weak\n",
    "    L_star_single_train = np.zeros_like(L_train)\n",
    "    L_star_single_train[:, idxes_L_diag] = L_star_train\n",
    "    dictionary[\"weak\"].append(get_Wasserstain(A_weak, L_weak, A_star_weak, L_star_single_weak))\n",
    "    dictionary[\"train\"].append(get_Wasserstain(A_train, L_train, A_star_train, L_star_single_train))\n",
    "    pbar.set_description(\"Mean Train {:.3f}, Mean Weak {:.3f}\".format(\n",
    "        sum(dictionary[\"train\"])/len(dictionary[\"train\"]),\n",
    "        sum(dictionary[\"weak\"])/len(dictionary[\"weak\"]),\n",
    "    ))  \n",
    "    \n",
    "tests_kmeans_singleoutput = dictionary"
   ]
  },
  {
   "cell_type": "code",
   "execution_count": 14,
   "metadata": {},
   "outputs": [
    {
     "name": "stderr",
     "output_type": "stream",
     "text": [
      "Mean Train 0.125, Mean Weak 0.136: 100%|████████| 30/30 [00:04<00:00,  6.46it/s]\n"
     ]
    }
   ],
   "source": [
    "tests_kmeans_multioutput = {\n",
    "    \"weak\":[],\n",
    "    \"train\":[],\n",
    "}\n",
    "\n",
    "dictionary = tests_kmeans_multioutput\n",
    "for i in (pbar := tqdm(range(cfg_weak[\"repetitions\"]))):\n",
    "    means = np.concatenate([\n",
    "                np.arange(cfg_weak[\"n_features\"])[None, :] + 8*i\n",
    "                for i in range(cfg_weak[\"n_components_x\"])\n",
    "            ])\n",
    "\n",
    "    X, Y, A, L = make_monte_carlo(means,\n",
    "                                  componenets_y=cfg_weak[\"n_components_y\"],\n",
    "                                  n_y=cfg_weak[\"n_outputs_y\"],\n",
    "                                  y_noise_level=cfg_weak[\"noise_level_y\"]\n",
    "                                 )\n",
    "    X_train, X_weak, Y_train, Y_weak, A_train, A_weak, L_train, L_weak = train_test_split(X, Y, A, L, test_size=cfg_weak[\"weak_size\"])\n",
    "    X_full = np.concatenate([X_train, X_weak])\n",
    "    Y_full = np.concatenate([Y_train, np.zeros_like(Y_weak)])\n",
    "    A_full = np.concatenate([A_train, np.zeros_like(A_weak)])\n",
    "    L_full = np.concatenate([L_train, np.zeros_like(L_weak)])\n",
    "    B_full = np.diag(np.concatenate([np.ones(X_train.shape[0])*cfg_weak[\"beta\"] + 1, np.ones(X_weak.shape[0])*cfg_weak[\"beta\"]]))\n",
    "    W = get_W_k_means(X_full, n_clusters=cfg_weak[\"n_clusters\"], normalize_W=cfg_weak[\"normalize\"])\n",
    "    \n",
    "    A_star, L_star = solve(W, B_full, Y_full, L_full)\n",
    "    A_star_train, A_star_weak = A_star[:X_train.shape[0]], A_star[X_train.shape[0]:]\n",
    "    L_star_train, L_star_weak = L_star[:X_train.shape[0]], L_star[X_train.shape[0]:]\n",
    "    \n",
    "    dictionary[\"weak\"].append(get_Wasserstain(A_weak, L_weak, A_star_weak, L_star_weak))\n",
    "    dictionary[\"train\"].append(get_Wasserstain(A_train, L_train, A_star_train, L_star_train))\n",
    "    pbar.set_description(\"Mean Train {:.3f}, Mean Weak {:.3f}\".format(\n",
    "        sum(dictionary[\"train\"])/len(dictionary[\"train\"]),\n",
    "        sum(dictionary[\"weak\"])/len(dictionary[\"weak\"]),\n",
    "    ))\n",
    "    \n",
    "tests_kmeans_multioutput = dictionary"
   ]
  },
  {
   "cell_type": "code",
   "execution_count": 15,
   "metadata": {},
   "outputs": [
    {
     "name": "stderr",
     "output_type": "stream",
     "text": [
      "Mean Train 1.156, Mean Weak 18.758: 100%|███████| 30/30 [00:02<00:00, 12.33it/s]\n"
     ]
    }
   ],
   "source": [
    "tests_gaussian_multioutput = {\n",
    "        \"weak\":[],\n",
    "        \"train\":[],\n",
    "    }\n",
    "\n",
    "dictionary = tests_gaussian_multioutput\n",
    "for i in (pbar := tqdm(range(cfg_weak[\"repetitions\"]))):\n",
    "    means = np.concatenate([\n",
    "                np.arange(cfg_weak[\"n_features\"])[None, :] + 8*i\n",
    "                for i in range(cfg_weak[\"n_components_x\"])\n",
    "            ])\n",
    "\n",
    "    X, Y, A, L = make_monte_carlo(means,\n",
    "                                  componenets_y=cfg_weak[\"n_components_y\"],\n",
    "                                  n_y=cfg_weak[\"n_outputs_y\"],\n",
    "                                  y_noise_level=cfg_weak[\"noise_level_y\"]\n",
    "                                 )\n",
    "    X_train, X_weak, Y_train, Y_weak, A_train, A_weak, L_train, L_weak = train_test_split(X, Y, A, L, test_size=cfg_weak[\"weak_size\"])\n",
    "    X_full = np.concatenate([X_train, X_weak])\n",
    "    Y_full = np.concatenate([Y_train, np.zeros_like(Y_weak)])\n",
    "    A_full = np.concatenate([A_train, np.zeros_like(A_weak)])\n",
    "    L_full = np.concatenate([L_train, np.zeros_like(L_weak)])\n",
    "    B_full = np.diag(np.concatenate([np.ones(X_train.shape[0])*cfg_weak[\"beta\"] + 1, np.ones(X_weak.shape[0])*cfg_weak[\"beta\"]]))\n",
    "    W = get_W_gaussian(X_full, normalize_W=cfg_weak[\"normalize\"])\n",
    "    \n",
    "    A_star, L_star = solve(W, B_full, Y_full, L_full)\n",
    "    A_star_train, A_star_weak = A_star[:X_train.shape[0]], A_star[X_train.shape[0]:]\n",
    "    L_star_train, L_star_weak = L_star[:X_train.shape[0]], L_star[X_train.shape[0]:]\n",
    "    \n",
    "    dictionary[\"weak\"].append(get_Wasserstain(A_weak, L_weak, A_star_weak, L_star_weak))\n",
    "    dictionary[\"train\"].append(get_Wasserstain(A_train, L_train, A_star_train, L_star_train))\n",
    "    pbar.set_description(\"Mean Train {:.3f}, Mean Weak {:.3f}\".format(\n",
    "        sum(dictionary[\"train\"])/len(dictionary[\"train\"]),\n",
    "        sum(dictionary[\"weak\"])/len(dictionary[\"weak\"]),\n",
    "    ))\n",
    "    \n",
    "tests_gaussian_multioutput = dictionary"
   ]
  },
  {
   "cell_type": "code",
   "execution_count": 16,
   "metadata": {},
   "outputs": [
    {
     "data": {
      "image/png": "[encoded data removed]",
      "text/plain": [
       "<Figure size 1080x504 with 2 Axes>"
      ]
     },
     "metadata": {
      "needs_background": "light"
     },
     "output_type": "display_data"
    }
   ],
   "source": [
    "plt.figure(figsize=(15, 7))\n",
    "plt.suptitle('Wassestain distance\\nResults after 50 random simulations')\n",
    "ax1 = plt.subplot(121)\n",
    "ax1.set_title(\"X_1\")\n",
    "ax1.boxplot([x[\"train\"] for x in [tests_kmeans_singleoutput, tests_gaussian_singleoutput, tests_kmeans_multioutput, tests_gaussian_multioutput]],\n",
    "           labels=[\"Not correalted\\nKmeans Clustering \\n3 clusters\", \"Not correalted\\nGaussian\", \"Kmeans Clustering\\n3 clusters\", \"Gaussian\"])\n",
    "\n",
    "ax2 = plt.subplot(122)\n",
    "ax2.set_title(\"X_0\")\n",
    "ax2.boxplot([x[\"weak\"] for x in [tests_kmeans_singleoutput, tests_gaussian_singleoutput, tests_kmeans_multioutput, tests_gaussian_multioutput]],\n",
    "           labels=[\"Not correalted\\nKmeans Clustering \\n3 clusters\", \"Not correalted\\nGaussian\", \"Kmeans Clustering\\n3 clusters\", \"Gaussian\"])\n",
    "\n",
    "plt.show()"
   ]
  },
  {
   "cell_type": "markdown",
   "metadata": {},
   "source": [
    "Ground truth solution\n",
    "\n",
    "$$\n",
    "A_{\\text{star}} =  (B + 2\\gamma D - 2\\gamma W)^{-1} A\n",
    "$$\n",
    "\n",
    "Lets assume we have decomposition $W = C_1C_2$, then knowing that\n",
    "\n",
    "$$\n",
    "(S + UV)^{-1} = S^{-1} - S^{-1} U(I + VS^{-1}U)^{-1}VS^{-1}\n",
    "$$\n",
    "\n",
    "We can rewrite\n",
    "$$\n",
    "(B + 2\\gamma D - 2\\gamma W)^{-1} = (B + 2\\gamma D - 2\\gamma C_1 C_2)^{-1} \n",
    "$$\n",
    "by letting\n",
    "\\begin{equation}\n",
    "\\begin{aligned}\n",
    "G &= (B + 2\\gamma D)^{-1}\\\\\n",
    "U &= - 2\\gamma C_1\\\\\n",
    "V &= C_2\\\\\n",
    "\\end{aligned}\n",
    "\\end{equation}\n",
    "Then,\n",
    "$$\n",
    "(B + 2\\gamma D - 2\\gamma C_1 C_2)^{-1} = (G^{-1} + U V)^{-1} = G - G U(I + VGU)VG\n",
    "$$"
   ]
  },
  {
   "cell_type": "code",
   "execution_count": 17,
   "metadata": {},
   "outputs": [],
   "source": [
    "class Nystrom():\n",
    "    \n",
    "    def __init__(self, rank):\n",
    "        self.r = rank\n",
    "        \n",
    "    def decompose(self, M):\n",
    "        C = M[:, :self.r]\n",
    "        W = C[:self.r, :self.r]\n",
    "        return C, np.linalg.pinv(W)@C.T\n",
    "        \n",
    "    def __call__(self, M):\n",
    "        return self.decompose(M)"
   ]
  },
  {
   "cell_type": "code",
   "execution_count": 18,
   "metadata": {},
   "outputs": [],
   "source": [
    "def solve(W, B, Y, L, gamma=0.01): \n",
    "    D = np.diag(np.sum(W, axis=1))\n",
    "    coeff = np.linalg.inv(B + 2*gamma*(D - W))\n",
    "    \n",
    "    return coeff@Y, coeff@L"
   ]
  },
  {
   "cell_type": "code",
   "execution_count": 19,
   "metadata": {},
   "outputs": [],
   "source": [
    "def solve_sparse(D, C_1, C_2, B, Y, L, gamma=0.01):\n",
    "    G = np.diag(1/np.diag(B + 2*gamma*D))\n",
    "    U = -2*gamma*C_1\n",
    "    V = C_2\n",
    "    GU = G@U\n",
    "    VGU = V@GU\n",
    "    M = G - GU@np.linalg.inv(np.eye(VGU.shape[0]) + VGU)@V@G\n",
    "    return M@Y, M@L"
   ]
  },
  {
   "cell_type": "code",
   "execution_count": 20,
   "metadata": {},
   "outputs": [
    {
     "name": "stderr",
     "output_type": "stream",
     "text": [
      "Mean Train 0.126, Mean Weak 0.139: 100%|████████| 30/30 [00:04<00:00,  6.37it/s]\n"
     ]
    }
   ],
   "source": [
    "dictionary = {\n",
    "        \"weak\":[],\n",
    "        \"train\":[],\n",
    "    }\n",
    "\n",
    "for i in (pbar := tqdm(range(cfg_weak[\"repetitions\"]))):\n",
    "    means = np.concatenate([\n",
    "                np.arange(cfg_weak[\"n_features\"])[None, :] + 8*i\n",
    "                for i in range(cfg_weak[\"n_components_x\"])\n",
    "            ])\n",
    "\n",
    "    X, Y, A, L = make_monte_carlo(means,\n",
    "                                  componenets_y=cfg_weak[\"n_components_y\"],\n",
    "                                  n_y=cfg_weak[\"n_outputs_y\"],\n",
    "                                  y_noise_level=cfg_weak[\"noise_level_y\"]\n",
    "                                 )\n",
    "    X_train, X_weak, Y_train, Y_weak, A_train, A_weak, L_train, L_weak = train_test_split(X, Y, A, L, test_size=cfg_weak[\"weak_size\"])\n",
    "    X_full = np.concatenate([X_train, X_weak])\n",
    "    Y_full = np.concatenate([Y_train, np.zeros_like(Y_weak)])\n",
    "    A_full = np.concatenate([A_train, np.zeros_like(A_weak)])\n",
    "    L_full = np.concatenate([L_train, np.zeros_like(L_weak)])\n",
    "    B_full = np.diag(np.concatenate([np.ones(X_train.shape[0])*cfg_weak[\"beta\"] + 1, np.ones(X_weak.shape[0])*cfg_weak[\"beta\"]]))\n",
    "    W = get_W_k_means(X_full, n_clusters=cfg_weak[\"n_clusters\"], normalize_W=cfg_weak[\"normalize\"])\n",
    "    \n",
    "    A_star, L_star = solve(W, B_full, Y_full, L_full)\n",
    "    A_star_train, A_star_weak = A_star[:X_train.shape[0]], A_star[X_train.shape[0]:]\n",
    "    L_star_train, L_star_weak = L_star[:X_train.shape[0]], L_star[X_train.shape[0]:]\n",
    "    \n",
    "    dictionary[\"weak\"].append(get_Wasserstain(A_weak, L_weak, A_star_weak, L_star_weak))\n",
    "    dictionary[\"train\"].append(get_Wasserstain(A_train, L_train, A_star_train, L_star_train))\n",
    "    pbar.set_description(\"Mean Train {:.3f}, Mean Weak {:.3f}\".format(\n",
    "        sum(dictionary[\"train\"])/len(dictionary[\"train\"]),\n",
    "        sum(dictionary[\"weak\"])/len(dictionary[\"weak\"]),\n",
    "    ))\n",
    "    \n",
    "tests_kmeans_gt = dictionary"
   ]
  },
  {
   "cell_type": "code",
   "execution_count": 21,
   "metadata": {},
   "outputs": [
    {
     "name": "stderr",
     "output_type": "stream",
     "text": [
      "Mean Train 0.122, Mean Weak 0.133: 100%|████████| 30/30 [00:06<00:00,  4.35it/s]\n"
     ]
    }
   ],
   "source": [
    "dictionary = {\n",
    "        \"weak\":[],\n",
    "        \"train\":[],\n",
    "    }\n",
    "rank = 50\n",
    "\n",
    "for i in (pbar := tqdm(range(cfg_weak[\"repetitions\"]))):\n",
    "    means = np.concatenate([\n",
    "                np.arange(cfg_weak[\"n_features\"])[None, :] + 8*i\n",
    "                for i in range(cfg_weak[\"n_components_x\"])\n",
    "            ])\n",
    "\n",
    "    X, Y, A, L = make_monte_carlo(means,\n",
    "                                  componenets_y=cfg_weak[\"n_components_y\"],\n",
    "                                  n_y=cfg_weak[\"n_outputs_y\"],\n",
    "                                  y_noise_level=cfg_weak[\"noise_level_y\"]\n",
    "                                 )\n",
    "    X_train, X_weak, Y_train, Y_weak, A_train, A_weak, L_train, L_weak = train_test_split(X, Y, A, L, test_size=cfg_weak[\"weak_size\"])\n",
    "    X_full = np.concatenate([X_train, X_weak])\n",
    "    Y_full = np.concatenate([Y_train, np.zeros_like(Y_weak)])\n",
    "    A_full = np.concatenate([A_train, np.zeros_like(A_weak)])\n",
    "    L_full = np.concatenate([L_train, np.zeros_like(L_weak)])\n",
    "    B_full = np.diag(np.concatenate([np.ones(X_train.shape[0])*cfg_weak[\"beta\"] + 1, np.ones(X_weak.shape[0])*cfg_weak[\"beta\"]]))\n",
    "    W = get_W_k_means(X_full, n_clusters=cfg_weak[\"n_clusters\"], normalize_W=cfg_weak[\"normalize\"])\n",
    "    \n",
    "    u, s, vt = scipy.sparse.linalg.svds(W, k=rank)\n",
    "    C_1, C_2 = u, np.diag(s)@vt\n",
    "    D = np.diag(np.sum(W, axis=1))\n",
    "\n",
    "    A_star, L_star = solve_sparse(D, C_1, C_2, B_full, Y_full, L_full)\n",
    "    A_star_train, A_star_weak = A_star[:X_train.shape[0]], A_star[X_train.shape[0]:]\n",
    "    L_star_train, L_star_weak = L_star[:X_train.shape[0]], L_star[X_train.shape[0]:]\n",
    "    \n",
    "    dictionary[\"weak\"].append(get_Wasserstain(A_weak, L_weak, A_star_weak, L_star_weak))\n",
    "    dictionary[\"train\"].append(get_Wasserstain(A_train, L_train, A_star_train, L_star_train))\n",
    "    pbar.set_description(\"Mean Train {:.3f}, Mean Weak {:.3f}\".format(\n",
    "        sum(dictionary[\"train\"])/len(dictionary[\"train\"]),\n",
    "        sum(dictionary[\"weak\"])/len(dictionary[\"weak\"]),\n",
    "    ))\n",
    "    \n",
    "tests_kmeans_svd = dictionary"
   ]
  },
  {
   "cell_type": "code",
   "execution_count": 22,
   "metadata": {},
   "outputs": [
    {
     "name": "stderr",
     "output_type": "stream",
     "text": [
      "Mean Train 2.189, Mean Weak 2.889: 100%|████████| 30/30 [00:04<00:00,  6.90it/s]\n"
     ]
    }
   ],
   "source": [
    "dictionary = {\n",
    "        \"weak\":[],\n",
    "        \"train\":[],\n",
    "    }\n",
    "rank = 50\n",
    "nystrom = Nystrom(rank)\n",
    "\n",
    "for i in (pbar := tqdm(range(cfg_weak[\"repetitions\"]))):\n",
    "    means = np.concatenate([\n",
    "                np.arange(cfg_weak[\"n_features\"])[None, :] + 8*i\n",
    "                for i in range(cfg_weak[\"n_components_x\"])\n",
    "            ])\n",
    "\n",
    "    X, Y, A, L = make_monte_carlo(means,\n",
    "                                  componenets_y=cfg_weak[\"n_components_y\"],\n",
    "                                  n_y=cfg_weak[\"n_outputs_y\"],\n",
    "                                  y_noise_level=cfg_weak[\"noise_level_y\"]\n",
    "                                 )\n",
    "    X_train, X_weak, Y_train, Y_weak, A_train, A_weak, L_train, L_weak = train_test_split(X, Y, A, L, test_size=cfg_weak[\"weak_size\"])\n",
    "    X_full = np.concatenate([X_train, X_weak])\n",
    "    Y_full = np.concatenate([Y_train, np.zeros_like(Y_weak)])\n",
    "    A_full = np.concatenate([A_train, np.zeros_like(A_weak)])\n",
    "    L_full = np.concatenate([L_train, np.zeros_like(L_weak)])\n",
    "    B_full = np.diag(np.concatenate([np.ones(X_train.shape[0])*cfg_weak[\"beta\"] + 1, np.ones(X_weak.shape[0])*cfg_weak[\"beta\"]]))\n",
    "    W = get_W_k_means(X_full, n_clusters=cfg_weak[\"n_clusters\"], normalize_W=cfg_weak[\"normalize\"])\n",
    "    \n",
    "    C_1_N, C_2_N = nystrom(W)\n",
    "    D = np.diag(np.sum(W, axis=1))\n",
    "\n",
    "    A_star, L_star = solve_sparse(D, C_1, C_2, B_full, Y_full, L_full)\n",
    "    A_star_train, A_star_weak = A_star[:X_train.shape[0]], A_star[X_train.shape[0]:]\n",
    "    L_star_train, L_star_weak = L_star[:X_train.shape[0]], L_star[X_train.shape[0]:]\n",
    "    \n",
    "    dictionary[\"weak\"].append(get_Wasserstain(A_weak, L_weak, A_star_weak, L_star_weak))\n",
    "    dictionary[\"train\"].append(get_Wasserstain(A_train, L_train, A_star_train, L_star_train))\n",
    "    pbar.set_description(\"Mean Train {:.3f}, Mean Weak {:.3f}\".format(\n",
    "        sum(dictionary[\"train\"])/len(dictionary[\"train\"]),\n",
    "        sum(dictionary[\"weak\"])/len(dictionary[\"weak\"]),\n",
    "    ))\n",
    "    \n",
    "tests_kmeans_nystrom = dictionary"
   ]
  },
  {
   "cell_type": "code",
   "execution_count": 23,
   "metadata": {},
   "outputs": [
    {
     "name": "stderr",
     "output_type": "stream",
     "text": [
      "Mean Train 0.117, Mean Weak 0.128: 100%|████████| 30/30 [00:05<00:00,  5.10it/s]\n"
     ]
    }
   ],
   "source": [
    "dictionary = {\n",
    "        \"weak\":[],\n",
    "        \"train\":[],\n",
    "    }\n",
    "rank = 50\n",
    "\n",
    "for i in (pbar := tqdm(range(cfg_weak[\"repetitions\"]))):\n",
    "    means = np.concatenate([\n",
    "                np.arange(cfg_weak[\"n_features\"])[None, :] + 8*i\n",
    "                for i in range(cfg_weak[\"n_components_x\"])\n",
    "            ])\n",
    "\n",
    "    X, Y, A, L = make_monte_carlo(means,\n",
    "                                  componenets_y=cfg_weak[\"n_components_y\"],\n",
    "                                  n_y=cfg_weak[\"n_outputs_y\"],\n",
    "                                  y_noise_level=cfg_weak[\"noise_level_y\"]\n",
    "                                 )\n",
    "    X_train, X_weak, Y_train, Y_weak, A_train, A_weak, L_train, L_weak = train_test_split(X, Y, A, L, test_size=cfg_weak[\"weak_size\"])\n",
    "    X_full = np.concatenate([X_train, X_weak])\n",
    "    Y_full = np.concatenate([Y_train, np.zeros_like(Y_weak)])\n",
    "    A_full = np.concatenate([A_train, np.zeros_like(A_weak)])\n",
    "    L_full = np.concatenate([L_train, np.zeros_like(L_weak)])\n",
    "    B_full = np.diag(np.concatenate([np.ones(X_train.shape[0])*cfg_weak[\"beta\"] + 1, np.ones(X_weak.shape[0])*cfg_weak[\"beta\"]]))\n",
    "    W = get_W_k_means(X_full, n_clusters=cfg_weak[\"n_clusters\"], normalize_W=cfg_weak[\"normalize\"])\n",
    "    u, s, vt = randomized_svd(W, n_components=rank, random_state=42)\n",
    "    C_1, C_2 = u, np.diag(s)@vt\n",
    "    D = np.diag(np.sum(W, axis=1))\n",
    "\n",
    "    A_star, L_star = solve_sparse(D, C_1, C_2, B_full, Y_full, L_full)\n",
    "    A_star_train, A_star_weak = A_star[:X_train.shape[0]], A_star[X_train.shape[0]:]\n",
    "    L_star_train, L_star_weak = L_star[:X_train.shape[0]], L_star[X_train.shape[0]:]\n",
    "    \n",
    "    dictionary[\"weak\"].append(get_Wasserstain(A_weak, L_weak, A_star_weak, L_star_weak))\n",
    "    dictionary[\"train\"].append(get_Wasserstain(A_train, L_train, A_star_train, L_star_train))\n",
    "    pbar.set_description(\"Mean Train {:.3f}, Mean Weak {:.3f}\".format(\n",
    "        sum(dictionary[\"train\"])/len(dictionary[\"train\"]),\n",
    "        sum(dictionary[\"weak\"])/len(dictionary[\"weak\"]),\n",
    "    ))\n",
    "    \n",
    "tests_kmeans_random_svd = dictionary"
   ]
  },
  {
   "cell_type": "code",
   "execution_count": 24,
   "metadata": {},
   "outputs": [
    {
     "name": "stderr",
     "output_type": "stream",
     "text": [
      "Mean Train 1.179, Mean Weak 18.906: 100%|███████| 30/30 [00:02<00:00, 11.37it/s]\n"
     ]
    }
   ],
   "source": [
    "dictionary = {\n",
    "        \"weak\":[],\n",
    "        \"train\":[],\n",
    "    }\n",
    "\n",
    "for i in (pbar := tqdm(range(cfg_weak[\"repetitions\"]))):\n",
    "    means = np.concatenate([\n",
    "                np.arange(cfg_weak[\"n_features\"])[None, :] + 8*i\n",
    "                for i in range(cfg_weak[\"n_components_x\"])\n",
    "            ])\n",
    "\n",
    "    X, Y, A, L = make_monte_carlo(means,\n",
    "                                  componenets_y=cfg_weak[\"n_components_y\"],\n",
    "                                  n_y=cfg_weak[\"n_outputs_y\"],\n",
    "                                  y_noise_level=cfg_weak[\"noise_level_y\"]\n",
    "                                 )\n",
    "    X_train, X_weak, Y_train, Y_weak, A_train, A_weak, L_train, L_weak = train_test_split(X, Y, A, L, test_size=cfg_weak[\"weak_size\"])\n",
    "    X_full = np.concatenate([X_train, X_weak])\n",
    "    Y_full = np.concatenate([Y_train, np.zeros_like(Y_weak)])\n",
    "    A_full = np.concatenate([A_train, np.zeros_like(A_weak)])\n",
    "    L_full = np.concatenate([L_train, np.zeros_like(L_weak)])\n",
    "    B_full = np.diag(np.concatenate([np.ones(X_train.shape[0])*cfg_weak[\"beta\"] + 1, np.ones(X_weak.shape[0])*cfg_weak[\"beta\"]]))\n",
    "    W = get_W_gaussian(X_full, normalize_W=cfg_weak[\"normalize\"])\n",
    "    \n",
    "    A_star, L_star = solve(W, B_full, Y_full, L_full)\n",
    "    A_star_train, A_star_weak = A_star[:X_train.shape[0]], A_star[X_train.shape[0]:]\n",
    "    L_star_train, L_star_weak = L_star[:X_train.shape[0]], L_star[X_train.shape[0]:]\n",
    "    \n",
    "    dictionary[\"weak\"].append(get_Wasserstain(A_weak, L_weak, A_star_weak, L_star_weak))\n",
    "    dictionary[\"train\"].append(get_Wasserstain(A_train, L_train, A_star_train, L_star_train))\n",
    "    pbar.set_description(\"Mean Train {:.3f}, Mean Weak {:.3f}\".format(\n",
    "        sum(dictionary[\"train\"])/len(dictionary[\"train\"]),\n",
    "        sum(dictionary[\"weak\"])/len(dictionary[\"weak\"]),\n",
    "    ))\n",
    "    \n",
    "tests_gauss_gt = dictionary"
   ]
  },
  {
   "cell_type": "code",
   "execution_count": 25,
   "metadata": {},
   "outputs": [
    {
     "name": "stderr",
     "output_type": "stream",
     "text": [
      "Mean Train 1.140, Mean Weak 16.265: 100%|███████| 30/30 [00:12<00:00,  2.42it/s]\n"
     ]
    }
   ],
   "source": [
    "dictionary = {\n",
    "        \"weak\":[],\n",
    "        \"train\":[],\n",
    "    }\n",
    "rank = 50\n",
    "\n",
    "for i in (pbar := tqdm(range(cfg_weak[\"repetitions\"]))):\n",
    "    means = np.concatenate([\n",
    "                np.arange(cfg_weak[\"n_features\"])[None, :] + 8*i\n",
    "                for i in range(cfg_weak[\"n_components_x\"])\n",
    "            ])\n",
    "\n",
    "    X, Y, A, L = make_monte_carlo(means,\n",
    "                                  componenets_y=cfg_weak[\"n_components_y\"],\n",
    "                                  n_y=cfg_weak[\"n_outputs_y\"],\n",
    "                                  y_noise_level=cfg_weak[\"noise_level_y\"]\n",
    "                                 )\n",
    "    X_train, X_weak, Y_train, Y_weak, A_train, A_weak, L_train, L_weak = train_test_split(X, Y, A, L, test_size=cfg_weak[\"weak_size\"])\n",
    "    X_full = np.concatenate([X_train, X_weak])\n",
    "    Y_full = np.concatenate([Y_train, np.zeros_like(Y_weak)])\n",
    "    A_full = np.concatenate([A_train, np.zeros_like(A_weak)])\n",
    "    L_full = np.concatenate([L_train, np.zeros_like(L_weak)])\n",
    "    B_full = np.diag(np.concatenate([np.ones(X_train.shape[0])*cfg_weak[\"beta\"] + 1, np.ones(X_weak.shape[0])*cfg_weak[\"beta\"]]))\n",
    "    W = get_W_gaussian(X_full, normalize_W=cfg_weak[\"normalize\"])\n",
    "    \n",
    "    u, s, vt = scipy.sparse.linalg.svds(W, k=rank)\n",
    "    C_1, C_2 = u, np.diag(s)@vt\n",
    "    D = np.diag(np.sum(W, axis=1))\n",
    "\n",
    "    A_star, L_star = solve_sparse(D, C_1, C_2, B_full, Y_full, L_full)\n",
    "    A_star_train, A_star_weak = A_star[:X_train.shape[0]], A_star[X_train.shape[0]:]\n",
    "    L_star_train, L_star_weak = L_star[:X_train.shape[0]], L_star[X_train.shape[0]:]\n",
    "    \n",
    "    dictionary[\"weak\"].append(get_Wasserstain(A_weak, L_weak, A_star_weak, L_star_weak))\n",
    "    dictionary[\"train\"].append(get_Wasserstain(A_train, L_train, A_star_train, L_star_train))\n",
    "    pbar.set_description(\"Mean Train {:.3f}, Mean Weak {:.3f}\".format(\n",
    "        sum(dictionary[\"train\"])/len(dictionary[\"train\"]),\n",
    "        sum(dictionary[\"weak\"])/len(dictionary[\"weak\"]),\n",
    "    ))\n",
    "    \n",
    "tests_gauss_svd = dictionary"
   ]
  },
  {
   "cell_type": "code",
   "execution_count": 26,
   "metadata": {},
   "outputs": [
    {
     "name": "stderr",
     "output_type": "stream",
     "text": [
      "Mean Train 1.178, Mean Weak 16.277: 100%|███████| 30/30 [00:02<00:00, 11.84it/s]\n"
     ]
    }
   ],
   "source": [
    "dictionary = {\n",
    "        \"weak\":[],\n",
    "        \"train\":[],\n",
    "    }\n",
    "rank = 50\n",
    "nystrom = Nystrom(rank)\n",
    "\n",
    "for i in (pbar := tqdm(range(cfg_weak[\"repetitions\"]))):\n",
    "    means = np.concatenate([\n",
    "                np.arange(cfg_weak[\"n_features\"])[None, :] + 8*i\n",
    "                for i in range(cfg_weak[\"n_components_x\"])\n",
    "            ])\n",
    "\n",
    "    X, Y, A, L = make_monte_carlo(means,\n",
    "                                  componenets_y=cfg_weak[\"n_components_y\"],\n",
    "                                  n_y=cfg_weak[\"n_outputs_y\"],\n",
    "                                  y_noise_level=cfg_weak[\"noise_level_y\"]\n",
    "                                 )\n",
    "    X_train, X_weak, Y_train, Y_weak, A_train, A_weak, L_train, L_weak = train_test_split(X, Y, A, L, test_size=cfg_weak[\"weak_size\"])\n",
    "    X_full = np.concatenate([X_train, X_weak])\n",
    "    Y_full = np.concatenate([Y_train, np.zeros_like(Y_weak)])\n",
    "    A_full = np.concatenate([A_train, np.zeros_like(A_weak)])\n",
    "    L_full = np.concatenate([L_train, np.zeros_like(L_weak)])\n",
    "    B_full = np.diag(np.concatenate([np.ones(X_train.shape[0])*cfg_weak[\"beta\"] + 1, np.ones(X_weak.shape[0])*cfg_weak[\"beta\"]]))\n",
    "    W = get_W_gaussian(X_full, normalize_W=cfg_weak[\"normalize\"])\n",
    "    \n",
    "    C_1_N, C_2_N = nystrom(W)\n",
    "    D = np.diag(np.sum(W, axis=1))\n",
    "\n",
    "    A_star, L_star = solve_sparse(D, C_1, C_2, B_full, Y_full, L_full)\n",
    "    A_star_train, A_star_weak = A_star[:X_train.shape[0]], A_star[X_train.shape[0]:]\n",
    "    L_star_train, L_star_weak = L_star[:X_train.shape[0]], L_star[X_train.shape[0]:]\n",
    "    \n",
    "    dictionary[\"weak\"].append(get_Wasserstain(A_weak, L_weak, A_star_weak, L_star_weak))\n",
    "    dictionary[\"train\"].append(get_Wasserstain(A_train, L_train, A_star_train, L_star_train))\n",
    "    pbar.set_description(\"Mean Train {:.3f}, Mean Weak {:.3f}\".format(\n",
    "        sum(dictionary[\"train\"])/len(dictionary[\"train\"]),\n",
    "        sum(dictionary[\"weak\"])/len(dictionary[\"weak\"]),\n",
    "    ))\n",
    "    \n",
    "tests_gauss_nystrom = dictionary"
   ]
  },
  {
   "cell_type": "code",
   "execution_count": 29,
   "metadata": {},
   "outputs": [
    {
     "name": "stderr",
     "output_type": "stream",
     "text": [
      "Mean Train 1.177, Mean Weak 19.079: 100%|███████| 30/30 [00:06<00:00,  4.98it/s]\n"
     ]
    }
   ],
   "source": [
    "dictionary = {\n",
    "        \"weak\":[],\n",
    "        \"train\":[],\n",
    "    }\n",
    "rank = 50\n",
    "\n",
    "for i in (pbar := tqdm(range(cfg_weak[\"repetitions\"]))):\n",
    "    means = np.concatenate([\n",
    "                np.arange(cfg_weak[\"n_features\"])[None, :] + 8*i\n",
    "                for i in range(cfg_weak[\"n_components_x\"])\n",
    "            ])\n",
    "\n",
    "    X, Y, A, L = make_monte_carlo(means,\n",
    "                                  componenets_y=cfg_weak[\"n_components_y\"],\n",
    "                                  n_y=cfg_weak[\"n_outputs_y\"],\n",
    "                                  y_noise_level=cfg_weak[\"noise_level_y\"]\n",
    "                                 )\n",
    "    X_train, X_weak, Y_train, Y_weak, A_train, A_weak, L_train, L_weak = train_test_split(X, Y, A, L, test_size=cfg_weak[\"weak_size\"])\n",
    "    X_full = np.concatenate([X_train, X_weak])\n",
    "    Y_full = np.concatenate([Y_train, np.zeros_like(Y_weak)])\n",
    "    A_full = np.concatenate([A_train, np.zeros_like(A_weak)])\n",
    "    L_full = np.concatenate([L_train, np.zeros_like(L_weak)])\n",
    "    B_full = np.diag(np.concatenate([np.ones(X_train.shape[0])*cfg_weak[\"beta\"] + 1, np.ones(X_weak.shape[0])*cfg_weak[\"beta\"]]))\n",
    "    W = get_W_gaussian(X_full, normalize_W=cfg_weak[\"normalize\"])\n",
    "    \n",
    "    u, s, vt = randomized_svd(W, n_components=rank, random_state=42)\n",
    "    C_1, C_2 = u, np.diag(s)@vt\n",
    "    D = np.diag(np.sum(W, axis=1))\n",
    "\n",
    "    A_star, L_star = solve_sparse(D, C_1, C_2, B_full, Y_full, L_full)\n",
    "    A_star_train, A_star_weak = A_star[:X_train.shape[0]], A_star[X_train.shape[0]:]\n",
    "    L_star_train, L_star_weak = L_star[:X_train.shape[0]], L_star[X_train.shape[0]:]\n",
    "    \n",
    "    dictionary[\"weak\"].append(get_Wasserstain(A_weak, L_weak, A_star_weak, L_star_weak))\n",
    "    dictionary[\"train\"].append(get_Wasserstain(A_train, L_train, A_star_train, L_star_train))\n",
    "    pbar.set_description(\"Mean Train {:.3f}, Mean Weak {:.3f}\".format(\n",
    "        sum(dictionary[\"train\"])/len(dictionary[\"train\"]),\n",
    "        sum(dictionary[\"weak\"])/len(dictionary[\"weak\"]),\n",
    "    ))\n",
    "    \n",
    "tests_gauss_random_svd = dictionary"
   ]
  },
  {
   "cell_type": "code",
   "execution_count": 30,
   "metadata": {},
   "outputs": [
    {
     "data": {
      "image/png": "[encoded data removed]",
      "text/plain": [
       "<Figure size 1080x504 with 2 Axes>"
      ]
     },
     "metadata": {
      "needs_background": "light"
     },
     "output_type": "display_data"
    }
   ],
   "source": [
    "dicts = [\n",
    "    tests_kmeans_gt,\n",
    "    tests_kmeans_svd,\n",
    "    tests_kmeans_nystrom,\n",
    "    tests_kmeans_random_svd,\n",
    "    tests_gauss_gt,\n",
    "    tests_gauss_svd,\n",
    "    tests_gauss_nystrom,\n",
    "    tests_gauss_random_svd,\n",
    "]\n",
    "\n",
    "names = [\n",
    "    \"Ground\\nTruth\",\n",
    "    \"Truncated\\nSVD\",\n",
    "    \"Nystrom\\nApproximation\",\n",
    "    \"Random\\nSVD\",\n",
    "    \"Ground\\nTruth\",\n",
    "    \"Truncated\\nSVD\",\n",
    "    \"Nystrom\\nApproximation\",\n",
    "    \"Random\\nSVD\",\n",
    "]\n",
    "\n",
    "suptitle = 'Result with {} components'.format(rank)\n",
    "\n",
    "plt.figure(figsize=(15, 7))\n",
    "plt.suptitle(suptitle)\n",
    "ax1 = plt.subplot(121)\n",
    "ax1.set_title(\"X_1\")\n",
    "ax1.boxplot([x[\"train\"] for x in dicts],\n",
    "           labels=names)\n",
    "\n",
    "ax2 = plt.subplot(122)\n",
    "ax2.set_title(\"X_0\")\n",
    "ax2.boxplot([x[\"weak\"] for x in dicts],\n",
    "           labels=names)\n",
    "\n",
    "plt.show()"
   ]
  }
 ],
 "metadata": {
  "kernelspec": {
   "display_name": "Python 3 (ipykernel)",
   "language": "python",
   "name": "python3"
  },
  "language_info": {
   "codemirror_mode": {
    "name": "ipython",
    "version": 3
   },
   "file_extension": ".py",
   "mimetype": "text/x-python",
   "name": "python",
   "nbconvert_exporter": "python",
   "pygments_lexer": "ipython3",
   "version": "3.9.7"
  }
 },
 "nbformat": 4,
 "nbformat_minor": 4
}
